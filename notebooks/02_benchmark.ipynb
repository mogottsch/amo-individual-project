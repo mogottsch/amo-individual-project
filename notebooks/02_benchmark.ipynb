{
 "cells": [
  {
   "attachments": {},
   "cell_type": "markdown",
   "metadata": {},
   "source": [
    "In this notebook we solve the electricty networking problem for all IEEE datasets with four different methods and record the objective values and runtimes.\n",
    "The methods are:\n",
    "- A simple linear program\n",
    "- single-threaded ADMM \n",
    "- multi-threaded ADMM \n",
    "- distributed ADMM "
   ]
  },
  {
   "cell_type": "code",
   "execution_count": 1,
   "metadata": {},
   "outputs": [
    {
     "name": "stderr",
     "output_type": "stream",
     "text": [
      "\u001b[32m\u001b[1m  Activating\u001b[22m\u001b[39m project at `~/dev/uni/amo-individual-project`\n"
     ]
    }
   ],
   "source": [
    "using Pkg;\n",
    "Pkg.activate(\"..\");\n",
    "Pkg.instantiate();"
   ]
  },
  {
   "cell_type": "code",
   "execution_count": 2,
   "metadata": {},
   "outputs": [],
   "source": [
    "import CSV"
   ]
  },
  {
   "cell_type": "code",
   "execution_count": 3,
   "metadata": {},
   "outputs": [
    {
     "name": "stdout",
     "output_type": "stream",
     "text": [
      "Set parameter Username\n",
      "Academic license - for non-commercial use only - expires 2024-01-19\n"
     ]
    },
    {
     "data": {
      "text/plain": [
       "print_iteration (generic function with 1 method)"
      ]
     },
     "execution_count": 3,
     "metadata": {},
     "output_type": "execute_result"
    }
   ],
   "source": [
    "include(\"../src/ieee_parser.jl\")\n",
    "include(\"../src/simple_lp.jl\")\n",
    "include(\"../src/admm.jl\")"
   ]
  },
  {
   "cell_type": "code",
   "execution_count": 4,
   "metadata": {},
   "outputs": [
    {
     "data": {
      "text/plain": [
       "5-element Vector{String}:\n",
       " \"../data/ieee118cdf.txt\"\n",
       " \"../data/ieee14cdf.txt\"\n",
       " \"../data/ieee300cdf.txt\"\n",
       " \"../data/ieee30cdf.txt\"\n",
       " \"../data/ieee57cdf.txt\""
      ]
     },
     "execution_count": 4,
     "metadata": {},
     "output_type": "execute_result"
    }
   ],
   "source": [
    "ieee_files = filter(contains(\"ieee\"), readdir(\"../data\"; join=true))\n",
    "# ieee_files = Vector{String}([\"../data/ieee14cdf.txt\"])"
   ]
  },
  {
   "cell_type": "code",
   "execution_count": 5,
   "metadata": {},
   "outputs": [
    {
     "data": {
      "text/plain": [
       "benchmark (generic function with 1 method)"
      ]
     },
     "execution_count": 5,
     "metadata": {},
     "output_type": "execute_result"
    }
   ],
   "source": [
    "import Dates\n",
    "using DataFrames\n",
    "\n",
    "function benchmark(files::Vector{String})::DataFrame\n",
    "\n",
    "\tresults_df = DataFrame(\n",
    "\t\t:file => String[],\n",
    "\t\t:method => String[],\n",
    "\t\t:elapsed => Float64[],\n",
    "\t\t:objective => Float64[],\n",
    "\t\t:has_converged => Bool[],\n",
    "\t)\n",
    "\n",
    "\tfor file in files\n",
    "\t\tbusses, lines = read_IEEE_common_data_format(file)\n",
    "\t\tfor mode in [\"ADMM-single-threaded\", \"ADMM-multi-threaded\", \"simple-lp\"]\n",
    "\t\t\tprintln(\"Solving $file with $mode\")\n",
    "\t\t\tstart = Dates.now()\n",
    "\t\t\tobjective = Inf\n",
    "\t\t\telapsed = Inf\n",
    "\t\t\thas_converged = false\n",
    "\n",
    "\t\t\tif mode == \"simple-lp\"\n",
    "\t\t\t\t_, _, objective = solve_with_lp(busses, lines)\n",
    "\t\t\t\thas_converged = true\n",
    "\t\t\telse \n",
    "\t\t\t\tconfig = create_admm_config(\n",
    "\t\t\t\t\t\tDict(\n",
    "\t\t\t\t\t\t\t:ρ => 1.0, \n",
    "\t\t\t\t\t\t\t:use_multithreading => mode == \"ADMM-multi-threaded\",\n",
    "\t\t\t\t\t\t\t:silent => true,\n",
    "\t\t\t\t\t\t)\n",
    "\t\t\t\t\t)\n",
    "\t\t\t\t_, _, objective, has_converged = solve_with_admm(busses, lines, config)\n",
    "\t\t\tend\n",
    "\n",
    "\t\t\telapsed = (Dates.now() - start).value / 1000\n",
    "\t\t\tpush!(results_df, (file, mode, elapsed, objective, has_converged))\n",
    "\t\tend\n",
    "\tend\n",
    "\n",
    "\treturn results_df\n",
    "end"
   ]
  },
  {
   "cell_type": "code",
   "execution_count": 6,
   "metadata": {},
   "outputs": [
    {
     "name": "stdout",
     "output_type": "stream",
     "text": [
      "Solving ../data/ieee118cdf.txt with ADMM-single-threaded\n",
      "Solving ../data/ieee118cdf.txt with ADMM-multi-threaded\n",
      "Solving ../data/ieee118cdf.txt with simple-lp\n",
      "Solving ../data/ieee14cdf.txt with ADMM-single-threaded\n",
      "Solving ../data/ieee14cdf.txt with ADMM-multi-threaded\n",
      "Solving ../data/ieee14cdf.txt with simple-lp\n",
      "Solving ../data/ieee300cdf.txt with ADMM-single-threaded\n",
      "Solving ../data/ieee300cdf.txt with ADMM-multi-threaded\n",
      "Solving ../data/ieee300cdf.txt with simple-lp\n",
      "Solving ../data/ieee30cdf.txt with ADMM-single-threaded\n",
      "Solving ../data/ieee30cdf.txt with ADMM-multi-threaded\n",
      "Solving ../data/ieee30cdf.txt with simple-lp\n",
      "Solving ../data/ieee57cdf.txt with ADMM-single-threaded\n",
      "Solving ../data/ieee57cdf.txt with ADMM-multi-threaded\n",
      "Solving ../data/ieee57cdf.txt with simple-lp\n"
     ]
    },
    {
     "data": {
      "text/html": [
       "<div><div style = \"float: left;\"><span>15×5 DataFrame</span></div><div style = \"clear: both;\"></div></div><div class = \"data-frame\" style = \"overflow-x: scroll;\"><table class = \"data-frame\" style = \"margin-bottom: 6px;\"><thead><tr class = \"header\"><th class = \"rowNumber\" style = \"font-weight: bold; text-align: right;\">Row</th><th style = \"text-align: left;\">file</th><th style = \"text-align: left;\">method</th><th style = \"text-align: left;\">elapsed</th><th style = \"text-align: left;\">objective</th><th style = \"text-align: left;\">has_converged</th></tr><tr class = \"subheader headerLastRow\"><th class = \"rowNumber\" style = \"font-weight: bold; text-align: right;\"></th><th title = \"String\" style = \"text-align: left;\">String</th><th title = \"String\" style = \"text-align: left;\">String</th><th title = \"Float64\" style = \"text-align: left;\">Float64</th><th title = \"Float64\" style = \"text-align: left;\">Float64</th><th title = \"Bool\" style = \"text-align: left;\">Bool</th></tr></thead><tbody><tr><td class = \"rowNumber\" style = \"font-weight: bold; text-align: right;\">1</td><td style = \"text-align: left;\">../data/ieee118cdf.txt</td><td style = \"text-align: left;\">ADMM-single-threaded</td><td style = \"text-align: right;\">55.605</td><td style = \"text-align: right;\">128380.0</td><td style = \"text-align: right;\">true</td></tr><tr><td class = \"rowNumber\" style = \"font-weight: bold; text-align: right;\">2</td><td style = \"text-align: left;\">../data/ieee118cdf.txt</td><td style = \"text-align: left;\">ADMM-multi-threaded</td><td style = \"text-align: right;\">14.361</td><td style = \"text-align: right;\">128380.0</td><td style = \"text-align: right;\">true</td></tr><tr><td class = \"rowNumber\" style = \"font-weight: bold; text-align: right;\">3</td><td style = \"text-align: left;\">../data/ieee118cdf.txt</td><td style = \"text-align: left;\">simple-lp</td><td style = \"text-align: right;\">0.053</td><td style = \"text-align: right;\">128380.0</td><td style = \"text-align: right;\">true</td></tr><tr><td class = \"rowNumber\" style = \"font-weight: bold; text-align: right;\">4</td><td style = \"text-align: left;\">../data/ieee14cdf.txt</td><td style = \"text-align: left;\">ADMM-single-threaded</td><td style = \"text-align: right;\">6.736</td><td style = \"text-align: right;\">9065.08</td><td style = \"text-align: right;\">true</td></tr><tr><td class = \"rowNumber\" style = \"font-weight: bold; text-align: right;\">5</td><td style = \"text-align: left;\">../data/ieee14cdf.txt</td><td style = \"text-align: left;\">ADMM-multi-threaded</td><td style = \"text-align: right;\">1.271</td><td style = \"text-align: right;\">9065.08</td><td style = \"text-align: right;\">true</td></tr><tr><td class = \"rowNumber\" style = \"font-weight: bold; text-align: right;\">6</td><td style = \"text-align: left;\">../data/ieee14cdf.txt</td><td style = \"text-align: left;\">simple-lp</td><td style = \"text-align: right;\">0.001</td><td style = \"text-align: right;\">9065.0</td><td style = \"text-align: right;\">true</td></tr><tr><td class = \"rowNumber\" style = \"font-weight: bold; text-align: right;\">7</td><td style = \"text-align: left;\">../data/ieee300cdf.txt</td><td style = \"text-align: left;\">ADMM-single-threaded</td><td style = \"text-align: right;\">697.262</td><td style = \"text-align: right;\">8.36166e5</td><td style = \"text-align: right;\">true</td></tr><tr><td class = \"rowNumber\" style = \"font-weight: bold; text-align: right;\">8</td><td style = \"text-align: left;\">../data/ieee300cdf.txt</td><td style = \"text-align: left;\">ADMM-multi-threaded</td><td style = \"text-align: right;\">354.551</td><td style = \"text-align: right;\">8.36166e5</td><td style = \"text-align: right;\">true</td></tr><tr><td class = \"rowNumber\" style = \"font-weight: bold; text-align: right;\">9</td><td style = \"text-align: left;\">../data/ieee300cdf.txt</td><td style = \"text-align: left;\">simple-lp</td><td style = \"text-align: right;\">0.004</td><td style = \"text-align: right;\">8.36166e5</td><td style = \"text-align: right;\">true</td></tr><tr><td class = \"rowNumber\" style = \"font-weight: bold; text-align: right;\">10</td><td style = \"text-align: left;\">../data/ieee30cdf.txt</td><td style = \"text-align: left;\">ADMM-single-threaded</td><td style = \"text-align: right;\">31.791</td><td style = \"text-align: right;\">9919.02</td><td style = \"text-align: right;\">true</td></tr><tr><td class = \"rowNumber\" style = \"font-weight: bold; text-align: right;\">11</td><td style = \"text-align: left;\">../data/ieee30cdf.txt</td><td style = \"text-align: left;\">ADMM-multi-threaded</td><td style = \"text-align: right;\">8.268</td><td style = \"text-align: right;\">9919.02</td><td style = \"text-align: right;\">true</td></tr><tr><td class = \"rowNumber\" style = \"font-weight: bold; text-align: right;\">12</td><td style = \"text-align: left;\">../data/ieee30cdf.txt</td><td style = \"text-align: left;\">simple-lp</td><td style = \"text-align: right;\">0.001</td><td style = \"text-align: right;\">9919.0</td><td style = \"text-align: right;\">true</td></tr><tr><td class = \"rowNumber\" style = \"font-weight: bold; text-align: right;\">13</td><td style = \"text-align: left;\">../data/ieee57cdf.txt</td><td style = \"text-align: left;\">ADMM-single-threaded</td><td style = \"text-align: right;\">78.86</td><td style = \"text-align: right;\">43778.0</td><td style = \"text-align: right;\">true</td></tr><tr><td class = \"rowNumber\" style = \"font-weight: bold; text-align: right;\">14</td><td style = \"text-align: left;\">../data/ieee57cdf.txt</td><td style = \"text-align: left;\">ADMM-multi-threaded</td><td style = \"text-align: right;\">24.086</td><td style = \"text-align: right;\">43778.0</td><td style = \"text-align: right;\">true</td></tr><tr><td class = \"rowNumber\" style = \"font-weight: bold; text-align: right;\">15</td><td style = \"text-align: left;\">../data/ieee57cdf.txt</td><td style = \"text-align: left;\">simple-lp</td><td style = \"text-align: right;\">0.001</td><td style = \"text-align: right;\">43778.0</td><td style = \"text-align: right;\">true</td></tr></tbody></table></div>"
      ],
      "text/latex": [
       "\\begin{tabular}{r|ccccc}\n",
       "\t& file & method & elapsed & objective & has\\_converged\\\\\n",
       "\t\\hline\n",
       "\t& String & String & Float64 & Float64 & Bool\\\\\n",
       "\t\\hline\n",
       "\t1 & ../data/ieee118cdf.txt & ADMM-single-threaded & 55.605 & 128380.0 & 1 \\\\\n",
       "\t2 & ../data/ieee118cdf.txt & ADMM-multi-threaded & 14.361 & 128380.0 & 1 \\\\\n",
       "\t3 & ../data/ieee118cdf.txt & simple-lp & 0.053 & 128380.0 & 1 \\\\\n",
       "\t4 & ../data/ieee14cdf.txt & ADMM-single-threaded & 6.736 & 9065.08 & 1 \\\\\n",
       "\t5 & ../data/ieee14cdf.txt & ADMM-multi-threaded & 1.271 & 9065.08 & 1 \\\\\n",
       "\t6 & ../data/ieee14cdf.txt & simple-lp & 0.001 & 9065.0 & 1 \\\\\n",
       "\t7 & ../data/ieee300cdf.txt & ADMM-single-threaded & 697.262 & 8.36166e5 & 1 \\\\\n",
       "\t8 & ../data/ieee300cdf.txt & ADMM-multi-threaded & 354.551 & 8.36166e5 & 1 \\\\\n",
       "\t9 & ../data/ieee300cdf.txt & simple-lp & 0.004 & 8.36166e5 & 1 \\\\\n",
       "\t10 & ../data/ieee30cdf.txt & ADMM-single-threaded & 31.791 & 9919.02 & 1 \\\\\n",
       "\t11 & ../data/ieee30cdf.txt & ADMM-multi-threaded & 8.268 & 9919.02 & 1 \\\\\n",
       "\t12 & ../data/ieee30cdf.txt & simple-lp & 0.001 & 9919.0 & 1 \\\\\n",
       "\t13 & ../data/ieee57cdf.txt & ADMM-single-threaded & 78.86 & 43778.0 & 1 \\\\\n",
       "\t14 & ../data/ieee57cdf.txt & ADMM-multi-threaded & 24.086 & 43778.0 & 1 \\\\\n",
       "\t15 & ../data/ieee57cdf.txt & simple-lp & 0.001 & 43778.0 & 1 \\\\\n",
       "\\end{tabular}\n"
      ],
      "text/plain": [
       "\u001b[1m15×5 DataFrame\u001b[0m\n",
       "\u001b[1m Row \u001b[0m│\u001b[1m file                   \u001b[0m\u001b[1m method               \u001b[0m\u001b[1m elapsed \u001b[0m\u001b[1m objective      \u001b[0m\u001b[1m \u001b[0m ⋯\n",
       "     │\u001b[90m String                 \u001b[0m\u001b[90m String               \u001b[0m\u001b[90m Float64 \u001b[0m\u001b[90m Float64        \u001b[0m\u001b[90m \u001b[0m ⋯\n",
       "─────┼──────────────────────────────────────────────────────────────────────────\n",
       "   1 │ ../data/ieee118cdf.txt  ADMM-single-threaded   55.605  128380.0         ⋯\n",
       "   2 │ ../data/ieee118cdf.txt  ADMM-multi-threaded    14.361  128380.0\n",
       "   3 │ ../data/ieee118cdf.txt  simple-lp               0.053  128380.0\n",
       "   4 │ ../data/ieee14cdf.txt   ADMM-single-threaded    6.736    9065.08\n",
       "   5 │ ../data/ieee14cdf.txt   ADMM-multi-threaded     1.271    9065.08        ⋯\n",
       "   6 │ ../data/ieee14cdf.txt   simple-lp               0.001    9065.0\n",
       "   7 │ ../data/ieee300cdf.txt  ADMM-single-threaded  697.262       8.36166e5\n",
       "   8 │ ../data/ieee300cdf.txt  ADMM-multi-threaded   354.551       8.36166e5\n",
       "   9 │ ../data/ieee300cdf.txt  simple-lp               0.004       8.36166e5   ⋯\n",
       "  10 │ ../data/ieee30cdf.txt   ADMM-single-threaded   31.791    9919.02\n",
       "  11 │ ../data/ieee30cdf.txt   ADMM-multi-threaded     8.268    9919.02\n",
       "  12 │ ../data/ieee30cdf.txt   simple-lp               0.001    9919.0\n",
       "  13 │ ../data/ieee57cdf.txt   ADMM-single-threaded   78.86    43778.0         ⋯\n",
       "  14 │ ../data/ieee57cdf.txt   ADMM-multi-threaded    24.086   43778.0\n",
       "  15 │ ../data/ieee57cdf.txt   simple-lp               0.001   43778.0\n",
       "\u001b[36m                                                                1 column omitted\u001b[0m"
      ]
     },
     "execution_count": 6,
     "metadata": {},
     "output_type": "execute_result"
    }
   ],
   "source": [
    "results = benchmark(ieee_files)"
   ]
  },
  {
   "cell_type": "code",
   "execution_count": 7,
   "metadata": {},
   "outputs": [
    {
     "data": {
      "text/plain": [
       "\"../results/results.csv\""
      ]
     },
     "execution_count": 7,
     "metadata": {},
     "output_type": "execute_result"
    }
   ],
   "source": [
    "CSV.write(\"../results/results.csv\", results)"
   ]
  }
 ],
 "metadata": {
  "kernelspec": {
   "display_name": "Julia 32 Threads 1.8.5",
   "language": "julia",
   "name": "julia-32-threads-1.8"
  },
  "language_info": {
   "file_extension": ".jl",
   "mimetype": "application/julia",
   "name": "julia",
   "version": "1.8.5"
  },
  "orig_nbformat": 4,
  "vscode": {
   "interpreter": {
    "hash": "92fc518b5b7384118677689b6c62f007241a114fd66f06ac06e1a7d68fdfd572"
   }
  }
 },
 "nbformat": 4,
 "nbformat_minor": 2
}
