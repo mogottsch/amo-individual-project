{
 "cells": [
  {
   "cell_type": "code",
   "execution_count": null,
   "metadata": {},
   "outputs": [],
   "source": [
    "include.(filter(contains(r\".jl$\"), readdir(\"../src\"; join=true)))"
   ]
  },
  {
   "cell_type": "code",
   "execution_count": null,
   "metadata": {},
   "outputs": [],
   "source": [
    "busses = Dict(\n",
    "\t:B1 => Dict(\n",
    "\t\t:cost => 12,\n",
    "\t\t:P_min => 0,\n",
    "\t\t:P_max => 250,\n",
    "\t\t:load => 160,\n",
    "\t\t:incoming => [:L3],\n",
    "\t\t:outgoing => [:L1],\n",
    "\t),\n",
    "\t:B2 => Dict(\n",
    "\t\t:cost => 20,\n",
    "\t\t:P_min => 0,\n",
    "\t\t:P_max => 300,\n",
    "\t\t:load => 100,\n",
    "\t\t:incoming => [:L1],\n",
    "\t\t:outgoing => [:L2],\n",
    "\t),\n",
    "\t:B3 => Dict(\n",
    "\t\t:cost => 17,\n",
    "\t\t:P_min => 0,\n",
    "\t\t:P_max => 350,\n",
    "\t\t:load => 50,\n",
    "\t\t:incoming => [:L2],\n",
    "\t\t:outgoing => [:L3],\n",
    "\t),\n",
    ")\n",
    "\n",
    "lines = Dict(\n",
    "\t:L1 => Dict(\n",
    "\t\t:from => :B1,\n",
    "\t\t:to => :B2,\n",
    "\t\t:capacity => 100,\n",
    "\t),\n",
    "\t:L2 => Dict(\n",
    "\t\t:from => :B2,\n",
    "\t\t:to => :B3,\n",
    "\t\t:capacity => 100,\n",
    "\t),\n",
    "\t:L3 => Dict(\n",
    "\t\t:from => :B3,\n",
    "\t\t:to => :B1,\n",
    "\t\t:capacity => 100,\n",
    "\t),\n",
    ")"
   ]
  },
  {
   "cell_type": "code",
   "execution_count": null,
   "metadata": {},
   "outputs": [],
   "source": [
    "parsed_busses = Dict{Symbol,Bus}()\n",
    "for (id, bus) in busses\n",
    "\tparsed_busses[id] = Bus(id, bus[:cost], bus[:P_min], bus[:P_max], bus[:load], Set(bus[:incoming]), Set(bus[:outgoing]))\n",
    "end\n",
    "\n",
    "parsed_lines = Dict{Symbol,Line}()\n",
    "for (id, line) in lines\n",
    "\tparsed_lines[id] = Line(id, line[:from], line[:to], line[:capacity])\n",
    "end"
   ]
  }
 ],
 "metadata": {
  "kernelspec": {
   "display_name": "Julia 1.8.5",
   "language": "julia",
   "name": "julia-1.8"
  },
  "language_info": {
   "file_extension": ".jl",
   "mimetype": "application/julia",
   "name": "julia",
   "version": "1.8.5"
  },
  "orig_nbformat": 4
 },
 "nbformat": 4,
 "nbformat_minor": 2
}
