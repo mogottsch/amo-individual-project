{
 "cells": [
  {
   "cell_type": "code",
   "execution_count": 1,
   "metadata": {},
   "outputs": [
    {
     "name": "stderr",
     "output_type": "stream",
     "text": [
      "\u001b[32m\u001b[1m  Activating\u001b[22m\u001b[39m project at `~/dev/uni/amo-individual-project`\n"
     ]
    }
   ],
   "source": [
    "using Pkg;\n",
    "Pkg.activate(\"..\");\n",
    "Pkg.instantiate();"
   ]
  },
  {
   "attachments": {},
   "cell_type": "markdown",
   "metadata": {},
   "source": [
    "This notebook implements Lagrangian Relaxation, Augmented Lagrangian Relaxation, Exchange ADMM and Consensus ADMM for basic examples.\n",
    "It was created as part of the learning process and is part of the project.\n",
    "It might, however, be useful to understand the concept of the algorithms."
   ]
  },
  {
   "attachments": {},
   "cell_type": "markdown",
   "metadata": {},
   "source": [
    "# Lagrangian Relaxation\n",
    "\n",
    "## Minimal example\n",
    "$$\n",
    "\\begin{split}\n",
    "&min_{x,y}  x^2 + y^2 \\\\\n",
    "&s.t. \\\\\n",
    "&-x - y = -4 (\\mu) \\\\\n",
    "&x \\geq 0 \\\\\n",
    "&y \\geq 0 \\\\\n",
    "\\end{split}\n",
    "$$\n",
    "\n",
    "### Lagrangian\n",
    "\n",
    "$$\n",
    "\\begin{split}\n",
    "&\\mathcal{L}(x,y,\\mu) = x^2 + y^2 + \\mu (-x - y + 4)\\\\\n",
    "&s.t. \\\\\n",
    "&x \\geq 0 \\\\\n",
    "&y \\geq 0 \\\\\n",
    "\\end{split}\n",
    "\n",
    "$$\n",
    "\n",
    "### Decomposed\n",
    "$$\n",
    "min_x x^2 - \\bar{\\mu} x \\\\\n",
    "s.t. \\\\\n",
    "x \\geq 0 \\\\\n",
    "$$\n",
    "\n",
    "$$\n",
    "min_y y^2 - \\bar{\\mu} y \\\\\n",
    "s.t. \\\\\n",
    "y \\geq 0 \\\\\n",
    "$$"
   ]
  },
  {
   "cell_type": "markdown",
   "metadata": {},
   "source": [
    "#"
   ]
  },
  {
   "cell_type": "code",
   "execution_count": 11,
   "metadata": {},
   "outputs": [
    {
     "name": "stdout",
     "output_type": "stream",
     "text": [
      "Set parameter Username\n",
      "Academic license - for non-commercial use only - expires 2024-01-19\n"
     ]
    },
    {
     "data": {
      "text/plain": [
       "Gurobi.Env(Ptr{Nothing} @0x00005608ea4de910, false, 0)"
      ]
     },
     "metadata": {},
     "output_type": "display_data"
    }
   ],
   "source": [
    "using JuMP\n",
    "import Gurobi\n",
    "using DataFrames\n",
    "GRB_ENV = Gurobi.Env()"
   ]
  },
  {
   "cell_type": "code",
   "execution_count": 4,
   "metadata": {},
   "outputs": [
    {
     "data": {
      "text/plain": [
       "solve_decomposed_problems (generic function with 1 method)"
      ]
     },
     "metadata": {},
     "output_type": "display_data"
    }
   ],
   "source": [
    "function solve_decomposed_problems(μ_fixed)\n",
    "\tdp1 = JuMP.Model(() -> Gurobi.Optimizer(GRB_ENV))\n",
    "    set_optimizer_attribute(dp1, \"OutputFlag\", 0)\n",
    "\n",
    "\t@variable(dp1, x >= 0)\n",
    "\t@objective(dp1, Min, x*x - μ_fixed*x)\n",
    "\t@constraint(dp1, x >= 0)\n",
    "\n",
    "\tdp2 = JuMP.Model(() -> Gurobi.Optimizer(GRB_ENV))\n",
    "    set_optimizer_attribute(dp2, \"OutputFlag\", 0)\n",
    "\n",
    "\t@variable(dp2, y >= 0)\n",
    "\t@objective(dp2, Min, y*y - μ_fixed*y)\n",
    "\t@constraint(dp2, y >= 0)\n",
    "\n",
    "\tJuMP.optimize!(dp1)\n",
    "\tJuMP.optimize!(dp2)\n",
    "\n",
    "\tif JuMP.termination_status(dp1) != MOI.OPTIMAL || JuMP.termination_status(dp2) != MOI.OPTIMAL\n",
    "\t\tthrow(\"Decomposed problems are not optimal\")\n",
    "\tend\n",
    "\n",
    "\t# c_x = -x\n",
    "\t# c_y = -y\n",
    "\t# sum c <= -4\n",
    "\treturn Dict(\n",
    "\t\t:x => JuMP.value.(x),\n",
    "\t\t:y => JuMP.value.(y),\n",
    "\t\t:d => -JuMP.value.(x) - JuMP.value.(y) + 4\n",
    "\t)\n",
    "end"
   ]
  },
  {
   "cell_type": "code",
   "execution_count": 10,
   "metadata": {},
   "outputs": [],
   "source": [
    "k = 0\n",
    "μs = []\n",
    "\n",
    "a = 1.2\n",
    "b = 1.2\n",
    "\n",
    "epsilon = 0.001\n",
    "\n",
    "μ_current = 3\n",
    "results = []\n",
    "while true\n",
    "\tμs = [μs; μ_current]\n",
    "\tsubresults = solve_decomposed_problems(μ_current)\n",
    "\n",
    "\tx = subresults[:x]\n",
    "\ty = subresults[:y]\n",
    "\td = subresults[:d]\n",
    "\td_abs = abs(d)\n",
    "\n",
    "\tL = x*x + y*y + μ_current * (x + y - 4)\n",
    "\tstep = (1/(a+b*k))\n",
    "\tdirection = (d / d_abs)\n",
    "\n",
    "\n",
    "\tμ_last = μ_current\n",
    "\n",
    "\tif d_abs != 0\n",
    "\t\tμ_current = μ_current + step * direction\n",
    "\tend\n",
    "\tk += 1\n",
    "\n",
    "\tresults = [results; Dict(\n",
    "\t\t:μ => μ_current,\n",
    "\t\t:x => x,\n",
    "\t\t:y => y,\n",
    "\t\t:L => L,\n",
    "\t\t:step => step,\n",
    "\t\t:direction => direction,\n",
    "\t)]\n",
    "\n",
    "\n",
    "\tif (abs(μ_current - μ_last)/abs(μ_last)) < epsilon\n",
    "\t\tbreak\n",
    "\tend\n",
    "\n",
    "\tif k > 100\n",
    "\t\tbreak\n",
    "\tend\n",
    "\n",
    "end"
   ]
  },
  {
   "cell_type": "code",
   "execution_count": 11,
   "metadata": {},
   "outputs": [
    {
     "data": {
      "text/html": [
       "<div><div style = \"float: left;\"><span>101×6 DataFrame</span></div><div style = \"float: right;\"><span style = \"font-style: italic;\">76 rows omitted</span></div><div style = \"clear: both;\"></div></div><div class = \"data-frame\" style = \"overflow-x: scroll;\"><table class = \"data-frame\" style = \"margin-bottom: 6px;\"><thead><tr class = \"header\"><th class = \"rowNumber\" style = \"font-weight: bold; text-align: right;\">Row</th><th style = \"text-align: left;\">μ</th><th style = \"text-align: left;\">y</th><th style = \"text-align: left;\">step</th><th style = \"text-align: left;\">L</th><th style = \"text-align: left;\">direction</th><th style = \"text-align: left;\">x</th></tr><tr class = \"subheader headerLastRow\"><th class = \"rowNumber\" style = \"font-weight: bold; text-align: right;\"></th><th title = \"Float64\" style = \"text-align: left;\">Float64</th><th title = \"Float64\" style = \"text-align: left;\">Float64</th><th title = \"Float64\" style = \"text-align: left;\">Float64</th><th title = \"Float64\" style = \"text-align: left;\">Float64</th><th title = \"Float64\" style = \"text-align: left;\">Float64</th><th title = \"Float64\" style = \"text-align: left;\">Float64</th></tr></thead><tbody><tr><td class = \"rowNumber\" style = \"font-weight: bold; text-align: right;\">1</td><td style = \"text-align: right;\">3.83333</td><td style = \"text-align: right;\">1.5</td><td style = \"text-align: right;\">0.833333</td><td style = \"text-align: right;\">1.5</td><td style = \"text-align: right;\">1.0</td><td style = \"text-align: right;\">1.5</td></tr><tr><td class = \"rowNumber\" style = \"font-weight: bold; text-align: right;\">2</td><td style = \"text-align: right;\">4.25</td><td style = \"text-align: right;\">1.91667</td><td style = \"text-align: right;\">0.416667</td><td style = \"text-align: right;\">6.70833</td><td style = \"text-align: right;\">1.0</td><td style = \"text-align: right;\">1.91667</td></tr><tr><td class = \"rowNumber\" style = \"font-weight: bold; text-align: right;\">3</td><td style = \"text-align: right;\">3.97222</td><td style = \"text-align: right;\">2.125</td><td style = \"text-align: right;\">0.277778</td><td style = \"text-align: right;\">10.0938</td><td style = \"text-align: right;\">-1.0</td><td style = \"text-align: right;\">2.125</td></tr><tr><td class = \"rowNumber\" style = \"font-weight: bold; text-align: right;\">4</td><td style = \"text-align: right;\">4.18056</td><td style = \"text-align: right;\">1.98611</td><td style = \"text-align: right;\">0.208333</td><td style = \"text-align: right;\">7.77894</td><td style = \"text-align: right;\">1.0</td><td style = \"text-align: right;\">1.98611</td></tr><tr><td class = \"rowNumber\" style = \"font-weight: bold; text-align: right;\">5</td><td style = \"text-align: right;\">4.01389</td><td style = \"text-align: right;\">2.09028</td><td style = \"text-align: right;\">0.166667</td><td style = \"text-align: right;\">9.49334</td><td style = \"text-align: right;\">-1.0</td><td style = \"text-align: right;\">2.09028</td></tr><tr><td class = \"rowNumber\" style = \"font-weight: bold; text-align: right;\">6</td><td style = \"text-align: right;\">3.875</td><td style = \"text-align: right;\">2.00694</td><td style = \"text-align: right;\">0.138889</td><td style = \"text-align: right;\">8.1114</td><td style = \"text-align: right;\">-1.0</td><td style = \"text-align: right;\">2.00694</td></tr><tr><td class = \"rowNumber\" style = \"font-weight: bold; text-align: right;\">7</td><td style = \"text-align: right;\">3.99405</td><td style = \"text-align: right;\">1.9375</td><td style = \"text-align: right;\">0.119048</td><td style = \"text-align: right;\">7.02344</td><td style = \"text-align: right;\">1.0</td><td style = \"text-align: right;\">1.9375</td></tr><tr><td class = \"rowNumber\" style = \"font-weight: bold; text-align: right;\">8</td><td style = \"text-align: right;\">4.09821</td><td style = \"text-align: right;\">1.99702</td><td style = \"text-align: right;\">0.104167</td><td style = \"text-align: right;\">7.95243</td><td style = \"text-align: right;\">1.0</td><td style = \"text-align: right;\">1.99702</td></tr><tr><td class = \"rowNumber\" style = \"font-weight: bold; text-align: right;\">9</td><td style = \"text-align: right;\">4.00562</td><td style = \"text-align: right;\">2.04911</td><td style = \"text-align: right;\">0.0925926</td><td style = \"text-align: right;\">8.80018</td><td style = \"text-align: right;\">-1.0</td><td style = \"text-align: right;\">2.04911</td></tr><tr><td class = \"rowNumber\" style = \"font-weight: bold; text-align: right;\">10</td><td style = \"text-align: right;\">3.92229</td><td style = \"text-align: right;\">2.00281</td><td style = \"text-align: right;\">0.0833333</td><td style = \"text-align: right;\">8.04502</td><td style = \"text-align: right;\">-1.0</td><td style = \"text-align: right;\">2.00281</td></tr><tr><td class = \"rowNumber\" style = \"font-weight: bold; text-align: right;\">11</td><td style = \"text-align: right;\">3.99805</td><td style = \"text-align: right;\">1.96114</td><td style = \"text-align: right;\">0.0757576</td><td style = \"text-align: right;\">7.38737</td><td style = \"text-align: right;\">1.0</td><td style = \"text-align: right;\">1.96114</td></tr><tr><td class = \"rowNumber\" style = \"font-weight: bold; text-align: right;\">12</td><td style = \"text-align: right;\">4.06749</td><td style = \"text-align: right;\">1.99902</td><td style = \"text-align: right;\">0.0694444</td><td style = \"text-align: right;\">7.98437</td><td style = \"text-align: right;\">1.0</td><td style = \"text-align: right;\">1.99902</td></tr><tr><td class = \"rowNumber\" style = \"font-weight: bold; text-align: right;\">13</td><td style = \"text-align: right;\">4.00339</td><td style = \"text-align: right;\">2.03375</td><td style = \"text-align: right;\">0.0641026</td><td style = \"text-align: right;\">8.54676</td><td style = \"text-align: right;\">-1.0</td><td style = \"text-align: right;\">2.03375</td></tr><tr><td style = \"text-align: right;\">&vellip;</td><td style = \"text-align: right;\">&vellip;</td><td style = \"text-align: right;\">&vellip;</td><td style = \"text-align: right;\">&vellip;</td><td style = \"text-align: right;\">&vellip;</td><td style = \"text-align: right;\">&vellip;</td><td style = \"text-align: right;\">&vellip;</td></tr><tr><td class = \"rowNumber\" style = \"font-weight: bold; text-align: right;\">90</td><td style = \"text-align: right;\">3.99085</td><td style = \"text-align: right;\">2.00005</td><td style = \"text-align: right;\">0.00925926</td><td style = \"text-align: right;\">8.00085</td><td style = \"text-align: right;\">-1.0</td><td style = \"text-align: right;\">2.00005</td></tr><tr><td class = \"rowNumber\" style = \"font-weight: bold; text-align: right;\">91</td><td style = \"text-align: right;\">4.0</td><td style = \"text-align: right;\">1.99542</td><td style = \"text-align: right;\">0.00915751</td><td style = \"text-align: right;\">7.9269</td><td style = \"text-align: right;\">1.0</td><td style = \"text-align: right;\">1.99542</td></tr><tr><td class = \"rowNumber\" style = \"font-weight: bold; text-align: right;\">92</td><td style = \"text-align: right;\">3.99095</td><td style = \"text-align: right;\">2.0</td><td style = \"text-align: right;\">0.00905797</td><td style = \"text-align: right;\">8.00004</td><td style = \"text-align: right;\">-1.0</td><td style = \"text-align: right;\">2.0</td></tr><tr><td class = \"rowNumber\" style = \"font-weight: bold; text-align: right;\">93</td><td style = \"text-align: right;\">3.99991</td><td style = \"text-align: right;\">1.99547</td><td style = \"text-align: right;\">0.00896057</td><td style = \"text-align: right;\">7.92769</td><td style = \"text-align: right;\">1.0</td><td style = \"text-align: right;\">1.99547</td></tr><tr><td class = \"rowNumber\" style = \"font-weight: bold; text-align: right;\">94</td><td style = \"text-align: right;\">4.00877</td><td style = \"text-align: right;\">1.99995</td><td style = \"text-align: right;\">0.00886525</td><td style = \"text-align: right;\">7.99926</td><td style = \"text-align: right;\">1.0</td><td style = \"text-align: right;\">1.99995</td></tr><tr><td class = \"rowNumber\" style = \"font-weight: bold; text-align: right;\">95</td><td style = \"text-align: right;\">4.0</td><td style = \"text-align: right;\">2.00439</td><td style = \"text-align: right;\">0.00877193</td><td style = \"text-align: right;\">8.07029</td><td style = \"text-align: right;\">-1.0</td><td style = \"text-align: right;\">2.00439</td></tr><tr><td class = \"rowNumber\" style = \"font-weight: bold; text-align: right;\">96</td><td style = \"text-align: right;\">3.99132</td><td style = \"text-align: right;\">2.0</td><td style = \"text-align: right;\">0.00868056</td><td style = \"text-align: right;\">8.0</td><td style = \"text-align: right;\">-1.0</td><td style = \"text-align: right;\">2.0</td></tr><tr><td class = \"rowNumber\" style = \"font-weight: bold; text-align: right;\">97</td><td style = \"text-align: right;\">3.99991</td><td style = \"text-align: right;\">1.99566</td><td style = \"text-align: right;\">0.00859107</td><td style = \"text-align: right;\">7.93067</td><td style = \"text-align: right;\">1.0</td><td style = \"text-align: right;\">1.99566</td></tr><tr><td class = \"rowNumber\" style = \"font-weight: bold; text-align: right;\">98</td><td style = \"text-align: right;\">4.00841</td><td style = \"text-align: right;\">1.99996</td><td style = \"text-align: right;\">0.0085034</td><td style = \"text-align: right;\">7.99929</td><td style = \"text-align: right;\">1.0</td><td style = \"text-align: right;\">1.99996</td></tr><tr><td class = \"rowNumber\" style = \"font-weight: bold; text-align: right;\">99</td><td style = \"text-align: right;\">4.0</td><td style = \"text-align: right;\">2.00421</td><td style = \"text-align: right;\">0.00841751</td><td style = \"text-align: right;\">8.06742</td><td style = \"text-align: right;\">-1.0</td><td style = \"text-align: right;\">2.00421</td></tr><tr><td class = \"rowNumber\" style = \"font-weight: bold; text-align: right;\">100</td><td style = \"text-align: right;\">4.00833</td><td style = \"text-align: right;\">2.0</td><td style = \"text-align: right;\">0.00833333</td><td style = \"text-align: right;\">7.99997</td><td style = \"text-align: right;\">1.0</td><td style = \"text-align: right;\">2.0</td></tr><tr><td class = \"rowNumber\" style = \"font-weight: bold; text-align: right;\">101</td><td style = \"text-align: right;\">4.00008</td><td style = \"text-align: right;\">2.00417</td><td style = \"text-align: right;\">0.00825083</td><td style = \"text-align: right;\">8.06674</td><td style = \"text-align: right;\">-1.0</td><td style = \"text-align: right;\">2.00417</td></tr></tbody></table></div>"
      ],
      "text/latex": [
       "\\begin{tabular}{r|cccccc}\n",
       "\t& μ & y & step & L & direction & x\\\\\n",
       "\t\\hline\n",
       "\t& Float64 & Float64 & Float64 & Float64 & Float64 & Float64\\\\\n",
       "\t\\hline\n",
       "\t1 & 3.83333 & 1.5 & 0.833333 & 1.5 & 1.0 & 1.5 \\\\\n",
       "\t2 & 4.25 & 1.91667 & 0.416667 & 6.70833 & 1.0 & 1.91667 \\\\\n",
       "\t3 & 3.97222 & 2.125 & 0.277778 & 10.0938 & -1.0 & 2.125 \\\\\n",
       "\t4 & 4.18056 & 1.98611 & 0.208333 & 7.77894 & 1.0 & 1.98611 \\\\\n",
       "\t5 & 4.01389 & 2.09028 & 0.166667 & 9.49334 & -1.0 & 2.09028 \\\\\n",
       "\t6 & 3.875 & 2.00694 & 0.138889 & 8.1114 & -1.0 & 2.00694 \\\\\n",
       "\t7 & 3.99405 & 1.9375 & 0.119048 & 7.02344 & 1.0 & 1.9375 \\\\\n",
       "\t8 & 4.09821 & 1.99702 & 0.104167 & 7.95243 & 1.0 & 1.99702 \\\\\n",
       "\t9 & 4.00562 & 2.04911 & 0.0925926 & 8.80018 & -1.0 & 2.04911 \\\\\n",
       "\t10 & 3.92229 & 2.00281 & 0.0833333 & 8.04502 & -1.0 & 2.00281 \\\\\n",
       "\t11 & 3.99805 & 1.96114 & 0.0757576 & 7.38737 & 1.0 & 1.96114 \\\\\n",
       "\t12 & 4.06749 & 1.99902 & 0.0694444 & 7.98437 & 1.0 & 1.99902 \\\\\n",
       "\t13 & 4.00339 & 2.03375 & 0.0641026 & 8.54676 & -1.0 & 2.03375 \\\\\n",
       "\t14 & 3.94386 & 2.00169 & 0.0595238 & 8.02712 & -1.0 & 2.00169 \\\\\n",
       "\t15 & 3.99942 & 1.97193 & 0.0555556 & 7.55564 & 1.0 & 1.97193 \\\\\n",
       "\t16 & 4.0515 & 1.99971 & 0.0520833 & 7.99536 & 1.0 & 1.99971 \\\\\n",
       "\t17 & 4.00248 & 2.02575 & 0.0490196 & 8.416 & -1.0 & 2.02575 \\\\\n",
       "\t18 & 3.95619 & 2.00124 & 0.0462963 & 8.01988 & -1.0 & 2.00124 \\\\\n",
       "\t19 & 4.00005 & 1.97809 & 0.0438596 & 7.65238 & 1.0 & 1.97809 \\\\\n",
       "\t20 & 3.95838 & 2.00002 & 0.0416667 & 8.00037 & -1.0 & 2.00002 \\\\\n",
       "\t21 & 3.99806 & 1.97919 & 0.0396825 & 7.66964 & 1.0 & 1.97919 \\\\\n",
       "\t22 & 4.03594 & 1.99903 & 0.0378788 & 7.98451 & 1.0 & 1.99903 \\\\\n",
       "\t23 & 3.99971 & 2.01797 & 0.0362319 & 8.28947 & -1.0 & 2.01797 \\\\\n",
       "\t24 & 4.03443 & 1.99985 & 0.0347222 & 7.99768 & 1.0 & 1.99985 \\\\\n",
       "\t$\\dots$ & $\\dots$ & $\\dots$ & $\\dots$ & $\\dots$ & $\\dots$ & $\\dots$ \\\\\n",
       "\\end{tabular}\n"
      ],
      "text/plain": [
       "\u001b[1m101×6 DataFrame\u001b[0m\n",
       "\u001b[1m Row \u001b[0m│\u001b[1m μ       \u001b[0m\u001b[1m y       \u001b[0m\u001b[1m step       \u001b[0m\u001b[1m L        \u001b[0m\u001b[1m direction \u001b[0m\u001b[1m x       \u001b[0m\n",
       "     │\u001b[90m Float64 \u001b[0m\u001b[90m Float64 \u001b[0m\u001b[90m Float64    \u001b[0m\u001b[90m Float64  \u001b[0m\u001b[90m Float64   \u001b[0m\u001b[90m Float64 \u001b[0m\n",
       "─────┼────────────────────────────────────────────────────────────\n",
       "   1 │ 3.83333  1.5      0.833333     1.5            1.0  1.5\n",
       "   2 │ 4.25     1.91667  0.416667     6.70833        1.0  1.91667\n",
       "   3 │ 3.97222  2.125    0.277778    10.0938        -1.0  2.125\n",
       "   4 │ 4.18056  1.98611  0.208333     7.77894        1.0  1.98611\n",
       "   5 │ 4.01389  2.09028  0.166667     9.49334       -1.0  2.09028\n",
       "   6 │ 3.875    2.00694  0.138889     8.1114        -1.0  2.00694\n",
       "   7 │ 3.99405  1.9375   0.119048     7.02344        1.0  1.9375\n",
       "   8 │ 4.09821  1.99702  0.104167     7.95243        1.0  1.99702\n",
       "  ⋮  │    ⋮        ⋮         ⋮          ⋮          ⋮         ⋮\n",
       "  95 │ 4.0      2.00439  0.00877193   8.07029       -1.0  2.00439\n",
       "  96 │ 3.99132  2.0      0.00868056   8.0           -1.0  2.0\n",
       "  97 │ 3.99991  1.99566  0.00859107   7.93067        1.0  1.99566\n",
       "  98 │ 4.00841  1.99996  0.0085034    7.99929        1.0  1.99996\n",
       "  99 │ 4.0      2.00421  0.00841751   8.06742       -1.0  2.00421\n",
       " 100 │ 4.00833  2.0      0.00833333   7.99997        1.0  2.0\n",
       " 101 │ 4.00008  2.00417  0.00825083   8.06674       -1.0  2.00417\n",
       "\u001b[36m                                                   86 rows omitted\u001b[0m"
      ]
     },
     "metadata": {},
     "output_type": "display_data"
    }
   ],
   "source": [
    "df = DataFrame(results)"
   ]
  },
  {
   "attachments": {},
   "cell_type": "markdown",
   "metadata": {},
   "source": [
    "## Example with generator dispatch\n",
    "$$\n",
    "\\begin{split}\n",
    "F(P_1) = 100 + 8P_1 + 0.1 P_1^2\\\\\n",
    "G(P_1): 230 \\leq P_1 \\leq 400\n",
    "\\end{split}\n",
    "$$\n",
    "\n",
    "$$\n",
    "\\begin{split}\n",
    "F(P_2) = 200 + 7P_2 + 0.06 P_2^2\\\\\n",
    "G(P_2): 100 \\leq P_2 \\leq 500\n",
    "\\end{split}\n",
    "$$\n",
    "\n",
    "$$\n",
    "\\begin{split}\n",
    "F(P_3) = 250 + 9P_3 + 0.07 P_3^2\\\\\n",
    "G(P_3): 100 \\leq P_3 \\leq 260\n",
    "\\end{split}\n",
    "$$\n",
    "\n",
    "$$\n",
    "P_1 + P_2 + P_3 = 800\n",
    "$$\n",
    "\n",
    "\n",
    "### Problem\n",
    "\n",
    "$$\n",
    "\\begin{split}\n",
    "&\\min_{P_1, P_2, P_3} \\sum_{i=1}^3 F(P_i) \\\\\n",
    "&s.t.\\\\\n",
    "&G(P_i) \\\\\n",
    "&P_1 + P_2 + P_3 = 800\n",
    "\\end{split}\n",
    "$$\n",
    "\n",
    "### Lagrangian\n",
    "$$\n",
    "L(P_1, P_2, P_3, \\lambda) = \\sum_{i=1}^3 F(P_i) + \\lambda (800 - P_1 - P_2 - P_3)\n",
    "$$\n",
    "\n",
    "### Decomposed\n",
    "\n",
    "$$\n",
    "\\begin{split}\n",
    "&\\min_{P_1} F(P_1) - \\bar{\\lambda} P_1 \\\\\n",
    "&s.t.\\\\\n",
    "&G(P_1) \\\\\n",
    "\\end{split}\n",
    "$$\n",
    "\n",
    "### Update\n",
    "$$\n",
    "\\lambda^{k+1} = \\lambda^k + \\frac{1}{a+bk} \\frac{800 - P_1 - P_2 - P_3}{|800 - P_1 - P_2 - P_3|}\n",
    "$$"
   ]
  },
  {
   "cell_type": "code",
   "execution_count": 35,
   "metadata": {},
   "outputs": [
    {
     "data": {
      "text/plain": [
       "solve_decomposed_problems (generic function with 2 methods)"
      ]
     },
     "metadata": {},
     "output_type": "display_data"
    }
   ],
   "source": [
    "n_gens = 3\n",
    "cost_0 = [100, 200, 250]\n",
    "cost_1 = [8, 7, 9]\n",
    "cost_2 = [0.1, 0.06, 0.07]\n",
    "\n",
    "P_lower = [230, 100, 100]\n",
    "P_upper = [400, 500, 260]\n",
    "\n",
    "\n",
    "function solve_decomposed_problems(λ)\n",
    "\tPks = []\n",
    "\tfor i in 1:n_gens\n",
    "\t\tsp = JuMP.Model(() -> Gurobi.Optimizer(GRB_ENV))\n",
    "\t\tset_optimizer_attribute(sp, \"OutputFlag\", 0)\n",
    "\t\t@variable(sp, P_lower[i] <= P <= P_upper[i])\n",
    "\t\t@objective(sp, Min, cost_0[i] + cost_1[i] * P + cost_2[i] * P * P - λ * P)\n",
    "\t\t\n",
    "\t\tJuMP.optimize!(sp)\n",
    "\n",
    "\t\tif JuMP.termination_status(sp) != MOI.OPTIMAL\n",
    "\t\t\tthrow(\"Decomposed problems are not optimal\")\n",
    "\t\tend\n",
    "\n",
    "\t\tpush!(Pks, JuMP.value.(P))\n",
    "\tend\n",
    "\treturn Pks\n",
    "end"
   ]
  },
  {
   "cell_type": "code",
   "execution_count": 51,
   "metadata": {},
   "outputs": [],
   "source": [
    "k = 0\n",
    "λs = []\n",
    "\n",
    "a = 0.1\n",
    "b = 0.1\n",
    "\n",
    "epsilon = 0.001\n",
    "\n",
    "λ_current = 0\n",
    "results = []\n",
    "while true\n",
    "\tλs = [λs; λ_current]\n",
    "\tPks = solve_decomposed_problems(λ_current)\n",
    "\n",
    "\td = 800 - sum(Pks)\n",
    "\td_abs = abs(d)\n",
    "\tdirection = (d / d_abs)\n",
    "\tstep = (1/(a+b*k))\n",
    "\n",
    "\tstep = (1/(a+b*k))\n",
    "\tdirection = (d / d_abs)\n",
    "\n",
    "\n",
    "\tλ_last = λ_current\n",
    "\n",
    "\tif d_abs != 0\n",
    "\t\tλ_current = λ_current + step * direction\n",
    "\tend\n",
    "\tk += 1\n",
    "\n",
    "\n",
    "\tnew_r = Dict(\n",
    "\t\t:λ => λ_current,\n",
    "\t\t:d => d,\n",
    "\t\t:step => step,\n",
    "\t\t:direction => direction,\n",
    "\t\t:k => k,\n",
    "\t)\n",
    "\tfor i in 1:n_gens\n",
    "\t\tnew_r[Symbol(\"P_$i\")] = Pks[i]\n",
    "\tend\n",
    "\tresults = [results; new_r]\n",
    "\n",
    "\n",
    "\tif (abs(λ_current - λ_last)/abs(λ_last)) < epsilon\n",
    "\t\tbreak\n",
    "\tend\n",
    "\n",
    "\t# if k > 100\n",
    "\t# \tbreak\n",
    "\t# end\n",
    "\n",
    "end"
   ]
  },
  {
   "cell_type": "code",
   "execution_count": 52,
   "metadata": {},
   "outputs": [
    {
     "data": {
      "text/html": [
       "<div><div style = \"float: left;\"><span>224×8 DataFrame</span></div><div style = \"float: right;\"><span style = \"font-style: italic;\">199 rows omitted</span></div><div style = \"clear: both;\"></div></div><div class = \"data-frame\" style = \"overflow-x: scroll;\"><table class = \"data-frame\" style = \"margin-bottom: 6px;\"><thead><tr class = \"header\"><th class = \"rowNumber\" style = \"font-weight: bold; text-align: right;\">Row</th><th style = \"text-align: left;\">d</th><th style = \"text-align: left;\">λ</th><th style = \"text-align: left;\">step</th><th style = \"text-align: left;\">k</th><th style = \"text-align: left;\">P_2</th><th style = \"text-align: left;\">P_1</th><th style = \"text-align: left;\">direction</th><th style = \"text-align: left;\">P_3</th></tr><tr class = \"subheader headerLastRow\"><th class = \"rowNumber\" style = \"font-weight: bold; text-align: right;\"></th><th title = \"Float64\" style = \"text-align: left;\">Float64</th><th title = \"Float64\" style = \"text-align: left;\">Float64</th><th title = \"Float64\" style = \"text-align: left;\">Float64</th><th title = \"Int64\" style = \"text-align: left;\">Int64</th><th title = \"Float64\" style = \"text-align: left;\">Float64</th><th title = \"Float64\" style = \"text-align: left;\">Float64</th><th title = \"Float64\" style = \"text-align: left;\">Float64</th><th title = \"Float64\" style = \"text-align: left;\">Float64</th></tr></thead><tbody><tr><td class = \"rowNumber\" style = \"font-weight: bold; text-align: right;\">1</td><td style = \"text-align: right;\">370.0</td><td style = \"text-align: right;\">10.0</td><td style = \"text-align: right;\">10.0</td><td style = \"text-align: right;\">1</td><td style = \"text-align: right;\">100.0</td><td style = \"text-align: right;\">230.0</td><td style = \"text-align: right;\">1.0</td><td style = \"text-align: right;\">100.0</td></tr><tr><td class = \"rowNumber\" style = \"font-weight: bold; text-align: right;\">2</td><td style = \"text-align: right;\">370.0</td><td style = \"text-align: right;\">15.0</td><td style = \"text-align: right;\">5.0</td><td style = \"text-align: right;\">2</td><td style = \"text-align: right;\">100.0</td><td style = \"text-align: right;\">230.0</td><td style = \"text-align: right;\">1.0</td><td style = \"text-align: right;\">100.0</td></tr><tr><td class = \"rowNumber\" style = \"font-weight: bold; text-align: right;\">3</td><td style = \"text-align: right;\">370.0</td><td style = \"text-align: right;\">18.3333</td><td style = \"text-align: right;\">3.33333</td><td style = \"text-align: right;\">3</td><td style = \"text-align: right;\">100.0</td><td style = \"text-align: right;\">230.0</td><td style = \"text-align: right;\">1.0</td><td style = \"text-align: right;\">100.0</td></tr><tr><td class = \"rowNumber\" style = \"font-weight: bold; text-align: right;\">4</td><td style = \"text-align: right;\">370.0</td><td style = \"text-align: right;\">20.8333</td><td style = \"text-align: right;\">2.5</td><td style = \"text-align: right;\">4</td><td style = \"text-align: right;\">100.0</td><td style = \"text-align: right;\">230.0</td><td style = \"text-align: right;\">1.0</td><td style = \"text-align: right;\">100.0</td></tr><tr><td class = \"rowNumber\" style = \"font-weight: bold; text-align: right;\">5</td><td style = \"text-align: right;\">354.722</td><td style = \"text-align: right;\">22.8333</td><td style = \"text-align: right;\">2.0</td><td style = \"text-align: right;\">5</td><td style = \"text-align: right;\">115.278</td><td style = \"text-align: right;\">230.0</td><td style = \"text-align: right;\">1.0</td><td style = \"text-align: right;\">100.0</td></tr><tr><td class = \"rowNumber\" style = \"font-weight: bold; text-align: right;\">6</td><td style = \"text-align: right;\">338.056</td><td style = \"text-align: right;\">24.5</td><td style = \"text-align: right;\">1.66667</td><td style = \"text-align: right;\">6</td><td style = \"text-align: right;\">131.944</td><td style = \"text-align: right;\">230.0</td><td style = \"text-align: right;\">1.0</td><td style = \"text-align: right;\">100.0</td></tr><tr><td class = \"rowNumber\" style = \"font-weight: bold; text-align: right;\">7</td><td style = \"text-align: right;\">313.452</td><td style = \"text-align: right;\">25.9286</td><td style = \"text-align: right;\">1.42857</td><td style = \"text-align: right;\">7</td><td style = \"text-align: right;\">145.833</td><td style = \"text-align: right;\">230.0</td><td style = \"text-align: right;\">1.0</td><td style = \"text-align: right;\">110.714</td></tr><tr><td class = \"rowNumber\" style = \"font-weight: bold; text-align: right;\">8</td><td style = \"text-align: right;\">291.344</td><td style = \"text-align: right;\">27.1786</td><td style = \"text-align: right;\">1.25</td><td style = \"text-align: right;\">8</td><td style = \"text-align: right;\">157.738</td><td style = \"text-align: right;\">230.0</td><td style = \"text-align: right;\">1.0</td><td style = \"text-align: right;\">120.918</td></tr><tr><td class = \"rowNumber\" style = \"font-weight: bold; text-align: right;\">9</td><td style = \"text-align: right;\">271.998</td><td style = \"text-align: right;\">28.2897</td><td style = \"text-align: right;\">1.11111</td><td style = \"text-align: right;\">9</td><td style = \"text-align: right;\">168.155</td><td style = \"text-align: right;\">230.0</td><td style = \"text-align: right;\">1.0</td><td style = \"text-align: right;\">129.847</td></tr><tr><td class = \"rowNumber\" style = \"font-weight: bold; text-align: right;\">10</td><td style = \"text-align: right;\">254.803</td><td style = \"text-align: right;\">29.2897</td><td style = \"text-align: right;\">1.0</td><td style = \"text-align: right;\">10</td><td style = \"text-align: right;\">177.414</td><td style = \"text-align: right;\">230.0</td><td style = \"text-align: right;\">1.0</td><td style = \"text-align: right;\">137.783</td></tr><tr><td class = \"rowNumber\" style = \"font-weight: bold; text-align: right;\">11</td><td style = \"text-align: right;\">239.326</td><td style = \"text-align: right;\">30.1988</td><td style = \"text-align: right;\">0.909091</td><td style = \"text-align: right;\">11</td><td style = \"text-align: right;\">185.747</td><td style = \"text-align: right;\">230.0</td><td style = \"text-align: right;\">1.0</td><td style = \"text-align: right;\">144.926</td></tr><tr><td class = \"rowNumber\" style = \"font-weight: bold; text-align: right;\">12</td><td style = \"text-align: right;\">225.257</td><td style = \"text-align: right;\">31.0321</td><td style = \"text-align: right;\">0.833333</td><td style = \"text-align: right;\">12</td><td style = \"text-align: right;\">193.323</td><td style = \"text-align: right;\">230.0</td><td style = \"text-align: right;\">1.0</td><td style = \"text-align: right;\">151.42</td></tr><tr><td class = \"rowNumber\" style = \"font-weight: bold; text-align: right;\">13</td><td style = \"text-align: right;\">212.36</td><td style = \"text-align: right;\">31.8013</td><td style = \"text-align: right;\">0.769231</td><td style = \"text-align: right;\">13</td><td style = \"text-align: right;\">200.268</td><td style = \"text-align: right;\">230.0</td><td style = \"text-align: right;\">1.0</td><td style = \"text-align: right;\">157.372</td></tr><tr><td style = \"text-align: right;\">&vellip;</td><td style = \"text-align: right;\">&vellip;</td><td style = \"text-align: right;\">&vellip;</td><td style = \"text-align: right;\">&vellip;</td><td style = \"text-align: right;\">&vellip;</td><td style = \"text-align: right;\">&vellip;</td><td style = \"text-align: right;\">&vellip;</td><td style = \"text-align: right;\">&vellip;</td><td style = \"text-align: right;\">&vellip;</td></tr><tr><td class = \"rowNumber\" style = \"font-weight: bold; text-align: right;\">213</td><td style = \"text-align: right;\">-0.730005</td><td style = \"text-align: right;\">44.7541</td><td style = \"text-align: right;\">0.0469484</td><td style = \"text-align: right;\">213</td><td style = \"text-align: right;\">315.008</td><td style = \"text-align: right;\">230.0</td><td style = \"text-align: right;\">-1.0</td><td style = \"text-align: right;\">255.722</td></tr><tr><td class = \"rowNumber\" style = \"font-weight: bold; text-align: right;\">214</td><td style = \"text-align: right;\">-0.00342337</td><td style = \"text-align: right;\">44.7073</td><td style = \"text-align: right;\">0.046729</td><td style = \"text-align: right;\">214</td><td style = \"text-align: right;\">314.617</td><td style = \"text-align: right;\">230.0</td><td style = \"text-align: right;\">-1.0</td><td style = \"text-align: right;\">255.386</td></tr><tr><td class = \"rowNumber\" style = \"font-weight: bold; text-align: right;\">215</td><td style = \"text-align: right;\">0.719763</td><td style = \"text-align: right;\">44.7539</td><td style = \"text-align: right;\">0.0465116</td><td style = \"text-align: right;\">215</td><td style = \"text-align: right;\">314.228</td><td style = \"text-align: right;\">230.0</td><td style = \"text-align: right;\">1.0</td><td style = \"text-align: right;\">255.052</td></tr><tr><td class = \"rowNumber\" style = \"font-weight: bold; text-align: right;\">216</td><td style = \"text-align: right;\">-5.9711e-5</td><td style = \"text-align: right;\">44.7076</td><td style = \"text-align: right;\">0.0462963</td><td style = \"text-align: right;\">216</td><td style = \"text-align: right;\">314.615</td><td style = \"text-align: right;\">230.0</td><td style = \"text-align: right;\">-1.0</td><td style = \"text-align: right;\">255.385</td></tr><tr><td class = \"rowNumber\" style = \"font-weight: bold; text-align: right;\">217</td><td style = \"text-align: right;\">0.716431</td><td style = \"text-align: right;\">44.7536</td><td style = \"text-align: right;\">0.0460829</td><td style = \"text-align: right;\">217</td><td style = \"text-align: right;\">314.23</td><td style = \"text-align: right;\">230.0</td><td style = \"text-align: right;\">1.0</td><td style = \"text-align: right;\">255.054</td></tr><tr><td class = \"rowNumber\" style = \"font-weight: bold; text-align: right;\">218</td><td style = \"text-align: right;\">0.00324209</td><td style = \"text-align: right;\">44.7995</td><td style = \"text-align: right;\">0.0458716</td><td style = \"text-align: right;\">218</td><td style = \"text-align: right;\">314.614</td><td style = \"text-align: right;\">230.0</td><td style = \"text-align: right;\">1.0</td><td style = \"text-align: right;\">255.383</td></tr><tr><td class = \"rowNumber\" style = \"font-weight: bold; text-align: right;\">219</td><td style = \"text-align: right;\">-0.706675</td><td style = \"text-align: right;\">44.7538</td><td style = \"text-align: right;\">0.0456621</td><td style = \"text-align: right;\">219</td><td style = \"text-align: right;\">314.996</td><td style = \"text-align: right;\">230.0</td><td style = \"text-align: right;\">-1.0</td><td style = \"text-align: right;\">255.711</td></tr><tr><td class = \"rowNumber\" style = \"font-weight: bold; text-align: right;\">220</td><td style = \"text-align: right;\">4.5755e-7</td><td style = \"text-align: right;\">44.7993</td><td style = \"text-align: right;\">0.0454545</td><td style = \"text-align: right;\">220</td><td style = \"text-align: right;\">314.615</td><td style = \"text-align: right;\">230.0</td><td style = \"text-align: right;\">1.0</td><td style = \"text-align: right;\">255.385</td></tr><tr><td class = \"rowNumber\" style = \"font-weight: bold; text-align: right;\">221</td><td style = \"text-align: right;\">-0.703463</td><td style = \"text-align: right;\">44.7541</td><td style = \"text-align: right;\">0.0452489</td><td style = \"text-align: right;\">221</td><td style = \"text-align: right;\">314.994</td><td style = \"text-align: right;\">230.0</td><td style = \"text-align: right;\">-1.0</td><td style = \"text-align: right;\">255.709</td></tr><tr><td class = \"rowNumber\" style = \"font-weight: bold; text-align: right;\">222</td><td style = \"text-align: right;\">-0.00318263</td><td style = \"text-align: right;\">44.709</td><td style = \"text-align: right;\">0.045045</td><td style = \"text-align: right;\">222</td><td style = \"text-align: right;\">314.617</td><td style = \"text-align: right;\">230.0</td><td style = \"text-align: right;\">-1.0</td><td style = \"text-align: right;\">255.386</td></tr><tr><td class = \"rowNumber\" style = \"font-weight: bold; text-align: right;\">223</td><td style = \"text-align: right;\">0.693943</td><td style = \"text-align: right;\">44.7538</td><td style = \"text-align: right;\">0.044843</td><td style = \"text-align: right;\">223</td><td style = \"text-align: right;\">314.242</td><td style = \"text-align: right;\">230.0</td><td style = \"text-align: right;\">1.0</td><td style = \"text-align: right;\">255.064</td></tr><tr><td class = \"rowNumber\" style = \"font-weight: bold; text-align: right;\">224</td><td style = \"text-align: right;\">-5.65097e-5</td><td style = \"text-align: right;\">44.7092</td><td style = \"text-align: right;\">0.0446429</td><td style = \"text-align: right;\">224</td><td style = \"text-align: right;\">314.615</td><td style = \"text-align: right;\">230.0</td><td style = \"text-align: right;\">-1.0</td><td style = \"text-align: right;\">255.385</td></tr></tbody></table></div>"
      ],
      "text/latex": [
       "\\begin{tabular}{r|cccccccc}\n",
       "\t& d & λ & step & k & P\\_2 & P\\_1 & direction & P\\_3\\\\\n",
       "\t\\hline\n",
       "\t& Float64 & Float64 & Float64 & Int64 & Float64 & Float64 & Float64 & Float64\\\\\n",
       "\t\\hline\n",
       "\t1 & 370.0 & 10.0 & 10.0 & 1 & 100.0 & 230.0 & 1.0 & 100.0 \\\\\n",
       "\t2 & 370.0 & 15.0 & 5.0 & 2 & 100.0 & 230.0 & 1.0 & 100.0 \\\\\n",
       "\t3 & 370.0 & 18.3333 & 3.33333 & 3 & 100.0 & 230.0 & 1.0 & 100.0 \\\\\n",
       "\t4 & 370.0 & 20.8333 & 2.5 & 4 & 100.0 & 230.0 & 1.0 & 100.0 \\\\\n",
       "\t5 & 354.722 & 22.8333 & 2.0 & 5 & 115.278 & 230.0 & 1.0 & 100.0 \\\\\n",
       "\t6 & 338.056 & 24.5 & 1.66667 & 6 & 131.944 & 230.0 & 1.0 & 100.0 \\\\\n",
       "\t7 & 313.452 & 25.9286 & 1.42857 & 7 & 145.833 & 230.0 & 1.0 & 110.714 \\\\\n",
       "\t8 & 291.344 & 27.1786 & 1.25 & 8 & 157.738 & 230.0 & 1.0 & 120.918 \\\\\n",
       "\t9 & 271.998 & 28.2897 & 1.11111 & 9 & 168.155 & 230.0 & 1.0 & 129.847 \\\\\n",
       "\t10 & 254.803 & 29.2897 & 1.0 & 10 & 177.414 & 230.0 & 1.0 & 137.783 \\\\\n",
       "\t11 & 239.326 & 30.1988 & 0.909091 & 11 & 185.747 & 230.0 & 1.0 & 144.926 \\\\\n",
       "\t12 & 225.257 & 31.0321 & 0.833333 & 12 & 193.323 & 230.0 & 1.0 & 151.42 \\\\\n",
       "\t13 & 212.36 & 31.8013 & 0.769231 & 13 & 200.268 & 230.0 & 1.0 & 157.372 \\\\\n",
       "\t14 & 200.455 & 32.5156 & 0.714286 & 14 & 206.678 & 230.0 & 1.0 & 162.867 \\\\\n",
       "\t15 & 189.401 & 33.1823 & 0.666667 & 15 & 212.63 & 230.0 & 1.0 & 167.969 \\\\\n",
       "\t16 & 179.084 & 33.8073 & 0.625 & 16 & 218.186 & 230.0 & 1.0 & 172.731 \\\\\n",
       "\t17 & 169.411 & 34.3955 & 0.588235 & 17 & 223.394 & 230.0 & 1.0 & 177.195 \\\\\n",
       "\t18 & 160.307 & 34.9511 & 0.555556 & 18 & 228.296 & 230.0 & 1.0 & 181.397 \\\\\n",
       "\t19 & 151.709 & 35.4774 & 0.526316 & 19 & 232.926 & 230.0 & 1.0 & 185.365 \\\\\n",
       "\t20 & 143.564 & 35.9774 & 0.5 & 20 & 237.312 & 230.0 & 1.0 & 189.124 \\\\\n",
       "\t21 & 135.826 & 36.4536 & 0.47619 & 21 & 241.478 & 230.0 & 1.0 & 192.696 \\\\\n",
       "\t22 & 128.456 & 36.9081 & 0.454545 & 22 & 245.447 & 230.0 & 1.0 & 196.097 \\\\\n",
       "\t23 & 121.422 & 37.3429 & 0.434783 & 23 & 249.234 & 230.0 & 1.0 & 199.344 \\\\\n",
       "\t24 & 114.693 & 37.7596 & 0.416667 & 24 & 252.858 & 230.0 & 1.0 & 202.449 \\\\\n",
       "\t$\\dots$ & $\\dots$ & $\\dots$ & $\\dots$ & $\\dots$ & $\\dots$ & $\\dots$ & $\\dots$ & $\\dots$ \\\\\n",
       "\\end{tabular}\n"
      ],
      "text/plain": [
       "\u001b[1m224×8 DataFrame\u001b[0m\n",
       "\u001b[1m Row \u001b[0m│\u001b[1m d            \u001b[0m\u001b[1m λ       \u001b[0m\u001b[1m step       \u001b[0m\u001b[1m k     \u001b[0m\u001b[1m P_2     \u001b[0m\u001b[1m P_1     \u001b[0m\u001b[1m direction \u001b[0m\u001b[1m \u001b[0m ⋯\n",
       "     │\u001b[90m Float64      \u001b[0m\u001b[90m Float64 \u001b[0m\u001b[90m Float64    \u001b[0m\u001b[90m Int64 \u001b[0m\u001b[90m Float64 \u001b[0m\u001b[90m Float64 \u001b[0m\u001b[90m Float64   \u001b[0m\u001b[90m \u001b[0m ⋯\n",
       "─────┼──────────────────────────────────────────────────────────────────────────\n",
       "   1 │ 370.0         10.0     10.0            1  100.0      230.0        1.0   ⋯\n",
       "   2 │ 370.0         15.0      5.0            2  100.0      230.0        1.0\n",
       "   3 │ 370.0         18.3333   3.33333        3  100.0      230.0        1.0\n",
       "   4 │ 370.0         20.8333   2.5            4  100.0      230.0        1.0\n",
       "   5 │ 354.722       22.8333   2.0            5  115.278    230.0        1.0   ⋯\n",
       "   6 │ 338.056       24.5      1.66667        6  131.944    230.0        1.0\n",
       "   7 │ 313.452       25.9286   1.42857        7  145.833    230.0        1.0\n",
       "   8 │ 291.344       27.1786   1.25           8  157.738    230.0        1.0\n",
       "  ⋮  │      ⋮           ⋮         ⋮         ⋮       ⋮        ⋮         ⋮       ⋱\n",
       " 218 │   0.00324209  44.7995   0.0458716    218  314.614    230.0        1.0   ⋯\n",
       " 219 │  -0.706675    44.7538   0.0456621    219  314.996    230.0       -1.0\n",
       " 220 │   4.5755e-7   44.7993   0.0454545    220  314.615    230.0        1.0\n",
       " 221 │  -0.703463    44.7541   0.0452489    221  314.994    230.0       -1.0\n",
       " 222 │  -0.00318263  44.709    0.045045     222  314.617    230.0       -1.0   ⋯\n",
       " 223 │   0.693943    44.7538   0.044843     223  314.242    230.0        1.0\n",
       " 224 │  -5.65097e-5  44.7092   0.0446429    224  314.615    230.0       -1.0\n",
       "\u001b[36m                                                   1 column and 209 rows omitted\u001b[0m"
      ]
     },
     "metadata": {},
     "output_type": "display_data"
    }
   ],
   "source": [
    "df = DataFrame(results)"
   ]
  },
  {
   "attachments": {},
   "cell_type": "markdown",
   "metadata": {},
   "source": [
    "# Augmented Lagrangian Relaxation\n",
    "\n",
    "## Minimal example\n",
    "$$\n",
    "\\begin{split}\n",
    "&min_{x,y}  x^2 + y^2 \\\\\n",
    "&s.t. \\\\\n",
    "&-x - y \\leq -4 (\\lambda) \\\\\n",
    "&x \\geq 0 \\\\\n",
    "&y \\geq 0 \\\\\n",
    "\\end{split}\n",
    "$$\n",
    "\n",
    "### Lagrangian\n",
    "\n",
    "$$\n",
    "\\begin{split}\n",
    "&\\mathcal{L}(x,y,\\mu) = x^2 + y^2 + \\lambda (-x - y + 4) + \\frac{\\alpha}{2}||-x-y+4||^2\\\\\n",
    "&s.t. \\\\\n",
    "&x \\geq 0 \\\\\n",
    "&y \\geq 0 \\\\\n",
    "\\end{split}\n",
    "\n",
    "$$\n",
    "\n",
    "### Decomposed\n",
    "$$\n",
    "min_x x^2 + \\bar{\\lambda} (-x - \\bar{y} + 4) + \\frac{\\alpha}{2} ||-x - \\bar{y} +4||^2\\\\\n",
    "s.t. \\\\\n",
    "x \\geq 0 \\\\\n",
    "$$\n",
    "\n",
    "$$\n",
    "min_x y^2 + \\bar{\\lambda} (-\\bar{x} - y + 4) + \\frac{\\alpha}{2} ||-\\bar{x} - y +4||^2\\\\\n",
    "s.t. \\\\\n",
    "y \\geq 0 \\\\\n",
    "$$\n",
    "\n",
    "**Multiplier update**\n",
    "$$\n",
    "\\lambda^{k} = \\lambda^{k-1} + \\alpha (-x - y + 4)"
   ]
  },
  {
   "cell_type": "code",
   "execution_count": 101,
   "metadata": {},
   "outputs": [
    {
     "data": {
      "text/plain": [
       "solve_decomposed_problems (generic function with 3 methods)"
      ]
     },
     "metadata": {},
     "output_type": "display_data"
    }
   ],
   "source": [
    "α = 15\n",
    "function solve_decomposed_problems(λ_fixed, y_fixed, x_fixed)\n",
    "\tdp1 = JuMP.Model(() -> Gurobi.Optimizer(GRB_ENV))\n",
    "    set_optimizer_attribute(dp1, \"OutputFlag\", 0)\n",
    "\n",
    "\t@variable(dp1, x >= 0)\n",
    "\t@objective(dp1, Min, x*x - λ_fixed*x + (α/2)*(-x - y_fixed + 4)^2)\n",
    "\t@constraint(dp1, x >= 0)\n",
    "\n",
    "\tJuMP.optimize!(dp1)\n",
    "\tx_fixed = JuMP.value.(x)\n",
    "\n",
    "\tdp2 = JuMP.Model(() -> Gurobi.Optimizer(GRB_ENV))\n",
    "    set_optimizer_attribute(dp2, \"OutputFlag\", 0)\n",
    "\n",
    "\n",
    "\t@variable(dp2, y >= 0)\n",
    "\t@objective(dp2, Min, y*y - λ_fixed* y + (α/2)*(-x_fixed - y + 4)^2)\n",
    "\t@constraint(dp2, y >= 0)\n",
    "\n",
    "\tJuMP.optimize!(dp2)\n",
    "\n",
    "\tif JuMP.termination_status(dp1) != MOI.OPTIMAL || JuMP.termination_status(dp2) != MOI.OPTIMAL\n",
    "\t\tthrow(\"Decomposed problems are not optimal\")\n",
    "\tend\n",
    "\n",
    "\t# c_x = -x\n",
    "\t# c_y = -y\n",
    "\t# sum c <= -4\n",
    "\treturn Dict(\n",
    "\t\t:x => JuMP.value.(x),\n",
    "\t\t:y => JuMP.value.(y),\n",
    "\t\t:r => -JuMP.value.(x) - JuMP.value.(y) + 4\n",
    "\t)\n",
    "end"
   ]
  },
  {
   "cell_type": "code",
   "execution_count": 102,
   "metadata": {},
   "outputs": [],
   "source": [
    "k = 0\n",
    "λs = []\n",
    "\n",
    "epsilon = 0.001\n",
    "\n",
    "λ_current = 3\n",
    "x = 1\n",
    "y = 1\n",
    "results = []\n",
    "while true\n",
    "\tλs = [λs; λ_current]\n",
    "\tsubresults = solve_decomposed_problems(λ_current, y, x)\n",
    "\n",
    "\tx = subresults[:x]\n",
    "\ty_last = y\n",
    "\ty = subresults[:y]\n",
    "\tr = subresults[:r]\n",
    "\n",
    "\tL = x*x + y*y + λ_current * (-x - y + 4) + (α/2)*(-x - y + 4)^2\n",
    "\n",
    "\tλ_last = λ_current\n",
    "\tλ_current = λ_current + α * r\n",
    "\tk += 1\n",
    "\n",
    "\tsk = α * -1 * -1 *(y - y_last)\n",
    "\trk = r\n",
    "\n",
    "\tresults = [results; Dict(\n",
    "\t\t:λ => λ_current,\n",
    "\t\t:x => x,\n",
    "\t\t:y => y,\n",
    "\t\t:L => L,\n",
    "\t\t:sk => sk,\n",
    "\t\t:rk => rk,\n",
    "\t)]\n",
    "\n",
    "\n",
    "\tif sk < epsilon && rk < epsilon\n",
    "\t\tbreak\n",
    "\tend\n",
    "\n",
    "\tif k > 500\n",
    "\t\tbreak\n",
    "\tend\n",
    "\n",
    "end"
   ]
  },
  {
   "cell_type": "markdown",
   "metadata": {},
   "source": [
    "df = DataFrame(results)"
   ]
  },
  {
   "attachments": {},
   "cell_type": "markdown",
   "metadata": {},
   "source": [
    "## Example with generator dispatch\n",
    "\n",
    "$$\n",
    "\\begin{split}\n",
    "F(P_1) = 10P_1\\\\\n",
    "G(P_1) = 0 \\leq P_1 \\leq 250\\\\\n",
    "\\end{split}\n",
    "$$\n",
    "\n",
    "$$\n",
    "\\begin{split}\n",
    "F(P_2) = 12 P_2\\\\\n",
    "G(P_2) = 0 \\leq P_2 \\leq 350\\\\\n",
    "\\end{split}\n",
    "$$\n",
    "\n",
    "$$\n",
    "\\begin{split}\n",
    "F(P_3) = 15 P_2\\\\\n",
    "G(P_3) = 0 \\leq P_2 \\leq 300\\\\\n",
    "\\end{split}\n",
    "$$\n",
    "\n",
    "$$\n",
    "P_1 + P_2 + P_3 = 360\n",
    "$$\n",
    "\n",
    "### Problem\n",
    "\n",
    "$$\n",
    "\\begin{split}\n",
    "&\\min_{P_1, P_2, P_3} \\sum_{i=1}^3 F(P_i) \\\\\n",
    "&s.t.\\\\\n",
    "&G(P_i) \\\\\n",
    "&P_1 + P_2 + P_3 = 360\n",
    "\\end{split}\n",
    "$$\n",
    "\n",
    "### Lagrangian\n",
    "\n",
    "$$\n",
    "L(P_1, P_2, P_3, \\lambda) = \\sum_{i=1}^3 F(P_i) + \\lambda (360 - P_1 - P_2 - P_3) + \\frac{\\alpha}{2}||360 - P_1 - P_2 - P_3||^2\n",
    "$$\n",
    "\n",
    "### Decomposed\n",
    "\n",
    "$$\n",
    "\\begin{split}\n",
    "&\\min_{P_1} F(P_1) - \\bar{\\lambda} P_1 + \\frac{\\alpha}{2} ||-P_1 - \\bar{P_2} - \\bar{P_3} + 360||^2\\\\\n",
    "&s.t.\\\\\n",
    "&G(P_1) \\\\\n",
    "\\end{split}\n",
    "$$\n",
    "\n",
    "### Update\n",
    "$$\n",
    "\\lambda^{k+1} = \\lambda^k + \\alpha (-P_1 - P_2 - P_3 + 360)\n",
    "$$"
   ]
  },
  {
   "cell_type": "code",
   "execution_count": 59,
   "metadata": {},
   "outputs": [
    {
     "data": {
      "text/plain": [
       "3-element Vector{Float64}:\n",
       " 250.0\n",
       " 110.0\n",
       "   0.0"
      ]
     },
     "metadata": {},
     "output_type": "display_data"
    }
   ],
   "source": [
    "# correct solutions\n",
    "\n",
    "tp = JuMP.Model(() -> Gurobi.Optimizer(GRB_ENV))\n",
    "set_optimizer_attribute(tp, \"OutputFlag\", 0)\n",
    "\n",
    "n_gens = 3\n",
    "cost = [10, 12, 15]\n",
    "\n",
    "P_lower = [0, 0, 0]\n",
    "P_upper = [250, 350, 300]\n",
    "\n",
    "@variable(tp, P_lower[i] <= P[i=1:n_gens] <= P_upper[i])\n",
    "@objective(tp, Min, sum(cost[i] * P[i] for i in 1:n_gens))\n",
    "@constraint(tp, sum(P[i] for i in 1:n_gens) == 360)\n",
    "\n",
    "JuMP.optimize!(tp)\n",
    "\n",
    "if JuMP.termination_status(tp) != MOI.OPTIMAL\n",
    "\tthrow(\"Decomposed problems are not optimal\")\n",
    "end\n",
    "\n",
    "Pks = JuMP.value.(P)"
   ]
  },
  {
   "cell_type": "code",
   "execution_count": 53,
   "metadata": {},
   "outputs": [
    {
     "data": {
      "text/plain": [
       "solve_decomposed_problems (generic function with 3 methods)"
      ]
     },
     "metadata": {},
     "output_type": "display_data"
    }
   ],
   "source": [
    "n_gens = 3\n",
    "cost = [10, 12, 15]\n",
    "\n",
    "P_lower = [0, 0, 0]\n",
    "P_upper = [250, 350, 300]\n",
    "α = 0.01\n",
    "\n",
    "\n",
    "function solve_decomposed_problems(λ, Pks)\n",
    "\tPks_next = []\n",
    "\tfor i in 1:n_gens\n",
    "\t\tsp = JuMP.Model(() -> Gurobi.Optimizer(GRB_ENV))\n",
    "\t\tset_optimizer_attribute(sp, \"OutputFlag\", 0)\n",
    "\t\t@variable(sp, P_lower[i] <= P <= P_upper[i])\n",
    "\t\tother_Pks = [Pks[j] for j in 1:n_gens if j != i]\n",
    "\t\t@objective(sp, Min, P * cost[i] - λ * P + (α/2) * (-P - sum(other_Pks) + 360)^2)\n",
    "\t\t\n",
    "\t\tJuMP.optimize!(sp)\n",
    "\n",
    "\t\tif JuMP.termination_status(sp) != MOI.OPTIMAL\n",
    "\t\t\tthrow(\"Decomposed problems are not optimal\")\n",
    "\t\tend\n",
    "\n",
    "\t\tpush!(Pks_next, JuMP.value.(P))\n",
    "\tend\n",
    "\treturn Pks_next\n",
    "end"
   ]
  },
  {
   "cell_type": "code",
   "execution_count": 60,
   "metadata": {},
   "outputs": [],
   "source": [
    "k = 0\n",
    "λs = []\n",
    "\n",
    "λ_current = 5\n",
    "results = []\n",
    "Pks = [10, 200, 150]\n",
    "while true\n",
    "\tλs = [λs; λ_current]\n",
    "\tPks = solve_decomposed_problems(λ_current, Pks)\n",
    "\n",
    "\tλ_last = λ_current\n",
    "\n",
    "\tλ_current = λ_current + α * (360 - sum(Pks))\n",
    "\tk += 1\n",
    "\n",
    "\n",
    "\tnew_r = Dict(\n",
    "\t\t:λ => λ_current,\n",
    "\t\t:k => k,\n",
    "\t)\n",
    "\tfor i in 1:n_gens\n",
    "\t\tnew_r[Symbol(\"P_$i\")] = Pks[i]\n",
    "\tend\n",
    "\tresults = [results; new_r]\n",
    "\n",
    "\n",
    "\tif k > 100\n",
    "\t\tbreak\n",
    "\tend\n",
    "\n",
    "end"
   ]
  },
  {
   "cell_type": "code",
   "execution_count": 61,
   "metadata": {},
   "outputs": [
    {
     "data": {
      "text/html": [
       "<div><div style = \"float: left;\"><span>101×5 DataFrame</span></div><div style = \"float: right;\"><span style = \"font-style: italic;\">76 rows omitted</span></div><div style = \"clear: both;\"></div></div><div class = \"data-frame\" style = \"overflow-x: scroll;\"><table class = \"data-frame\" style = \"margin-bottom: 6px;\"><thead><tr class = \"header\"><th class = \"rowNumber\" style = \"font-weight: bold; text-align: right;\">Row</th><th style = \"text-align: left;\">λ</th><th style = \"text-align: left;\">k</th><th style = \"text-align: left;\">P_2</th><th style = \"text-align: left;\">P_1</th><th style = \"text-align: left;\">P_3</th></tr><tr class = \"subheader headerLastRow\"><th class = \"rowNumber\" style = \"font-weight: bold; text-align: right;\"></th><th title = \"Float64\" style = \"text-align: left;\">Float64</th><th title = \"Int64\" style = \"text-align: left;\">Int64</th><th title = \"Float64\" style = \"text-align: left;\">Float64</th><th title = \"Float64\" style = \"text-align: left;\">Float64</th><th title = \"Float64\" style = \"text-align: left;\">Float64</th></tr></thead><tbody><tr><td class = \"rowNumber\" style = \"font-weight: bold; text-align: right;\">1</td><td style = \"text-align: right;\">8.6</td><td style = \"text-align: right;\">1</td><td style = \"text-align: right;\">0.0</td><td style = \"text-align: right;\">0.0</td><td style = \"text-align: right;\">0.0</td></tr><tr><td class = \"rowNumber\" style = \"font-weight: bold; text-align: right;\">2</td><td style = \"text-align: right;\">9.8</td><td style = \"text-align: right;\">2</td><td style = \"text-align: right;\">20.0</td><td style = \"text-align: right;\">220.0</td><td style = \"text-align: right;\">0.0</td></tr><tr><td class = \"rowNumber\" style = \"font-weight: bold; text-align: right;\">3</td><td style = \"text-align: right;\">10.9</td><td style = \"text-align: right;\">3</td><td style = \"text-align: right;\">0.0</td><td style = \"text-align: right;\">250.0</td><td style = \"text-align: right;\">0.0</td></tr><tr><td class = \"rowNumber\" style = \"font-weight: bold; text-align: right;\">4</td><td style = \"text-align: right;\">12.0</td><td style = \"text-align: right;\">4</td><td style = \"text-align: right;\">4.44089e-14</td><td style = \"text-align: right;\">250.0</td><td style = \"text-align: right;\">0.0</td></tr><tr><td class = \"rowNumber\" style = \"font-weight: bold; text-align: right;\">5</td><td style = \"text-align: right;\">12.0</td><td style = \"text-align: right;\">5</td><td style = \"text-align: right;\">110.0</td><td style = \"text-align: right;\">250.0</td><td style = \"text-align: right;\">0.0</td></tr><tr><td class = \"rowNumber\" style = \"font-weight: bold; text-align: right;\">6</td><td style = \"text-align: right;\">12.0</td><td style = \"text-align: right;\">6</td><td style = \"text-align: right;\">110.0</td><td style = \"text-align: right;\">250.0</td><td style = \"text-align: right;\">0.0</td></tr><tr><td class = \"rowNumber\" style = \"font-weight: bold; text-align: right;\">7</td><td style = \"text-align: right;\">12.0</td><td style = \"text-align: right;\">7</td><td style = \"text-align: right;\">110.0</td><td style = \"text-align: right;\">250.0</td><td style = \"text-align: right;\">0.0</td></tr><tr><td class = \"rowNumber\" style = \"font-weight: bold; text-align: right;\">8</td><td style = \"text-align: right;\">12.0</td><td style = \"text-align: right;\">8</td><td style = \"text-align: right;\">110.0</td><td style = \"text-align: right;\">250.0</td><td style = \"text-align: right;\">0.0</td></tr><tr><td class = \"rowNumber\" style = \"font-weight: bold; text-align: right;\">9</td><td style = \"text-align: right;\">12.0</td><td style = \"text-align: right;\">9</td><td style = \"text-align: right;\">110.0</td><td style = \"text-align: right;\">250.0</td><td style = \"text-align: right;\">0.0</td></tr><tr><td class = \"rowNumber\" style = \"font-weight: bold; text-align: right;\">10</td><td style = \"text-align: right;\">12.0</td><td style = \"text-align: right;\">10</td><td style = \"text-align: right;\">110.0</td><td style = \"text-align: right;\">250.0</td><td style = \"text-align: right;\">0.0</td></tr><tr><td class = \"rowNumber\" style = \"font-weight: bold; text-align: right;\">11</td><td style = \"text-align: right;\">12.0</td><td style = \"text-align: right;\">11</td><td style = \"text-align: right;\">110.0</td><td style = \"text-align: right;\">250.0</td><td style = \"text-align: right;\">0.0</td></tr><tr><td class = \"rowNumber\" style = \"font-weight: bold; text-align: right;\">12</td><td style = \"text-align: right;\">12.0</td><td style = \"text-align: right;\">12</td><td style = \"text-align: right;\">110.0</td><td style = \"text-align: right;\">250.0</td><td style = \"text-align: right;\">0.0</td></tr><tr><td class = \"rowNumber\" style = \"font-weight: bold; text-align: right;\">13</td><td style = \"text-align: right;\">12.0</td><td style = \"text-align: right;\">13</td><td style = \"text-align: right;\">110.0</td><td style = \"text-align: right;\">250.0</td><td style = \"text-align: right;\">0.0</td></tr><tr><td style = \"text-align: right;\">&vellip;</td><td style = \"text-align: right;\">&vellip;</td><td style = \"text-align: right;\">&vellip;</td><td style = \"text-align: right;\">&vellip;</td><td style = \"text-align: right;\">&vellip;</td><td style = \"text-align: right;\">&vellip;</td></tr><tr><td class = \"rowNumber\" style = \"font-weight: bold; text-align: right;\">90</td><td style = \"text-align: right;\">12.0</td><td style = \"text-align: right;\">90</td><td style = \"text-align: right;\">110.0</td><td style = \"text-align: right;\">250.0</td><td style = \"text-align: right;\">0.0</td></tr><tr><td class = \"rowNumber\" style = \"font-weight: bold; text-align: right;\">91</td><td style = \"text-align: right;\">12.0</td><td style = \"text-align: right;\">91</td><td style = \"text-align: right;\">110.0</td><td style = \"text-align: right;\">250.0</td><td style = \"text-align: right;\">0.0</td></tr><tr><td class = \"rowNumber\" style = \"font-weight: bold; text-align: right;\">92</td><td style = \"text-align: right;\">12.0</td><td style = \"text-align: right;\">92</td><td style = \"text-align: right;\">110.0</td><td style = \"text-align: right;\">250.0</td><td style = \"text-align: right;\">0.0</td></tr><tr><td class = \"rowNumber\" style = \"font-weight: bold; text-align: right;\">93</td><td style = \"text-align: right;\">12.0</td><td style = \"text-align: right;\">93</td><td style = \"text-align: right;\">110.0</td><td style = \"text-align: right;\">250.0</td><td style = \"text-align: right;\">0.0</td></tr><tr><td class = \"rowNumber\" style = \"font-weight: bold; text-align: right;\">94</td><td style = \"text-align: right;\">12.0</td><td style = \"text-align: right;\">94</td><td style = \"text-align: right;\">110.0</td><td style = \"text-align: right;\">250.0</td><td style = \"text-align: right;\">0.0</td></tr><tr><td class = \"rowNumber\" style = \"font-weight: bold; text-align: right;\">95</td><td style = \"text-align: right;\">12.0</td><td style = \"text-align: right;\">95</td><td style = \"text-align: right;\">110.0</td><td style = \"text-align: right;\">250.0</td><td style = \"text-align: right;\">0.0</td></tr><tr><td class = \"rowNumber\" style = \"font-weight: bold; text-align: right;\">96</td><td style = \"text-align: right;\">12.0</td><td style = \"text-align: right;\">96</td><td style = \"text-align: right;\">110.0</td><td style = \"text-align: right;\">250.0</td><td style = \"text-align: right;\">0.0</td></tr><tr><td class = \"rowNumber\" style = \"font-weight: bold; text-align: right;\">97</td><td style = \"text-align: right;\">12.0</td><td style = \"text-align: right;\">97</td><td style = \"text-align: right;\">110.0</td><td style = \"text-align: right;\">250.0</td><td style = \"text-align: right;\">0.0</td></tr><tr><td class = \"rowNumber\" style = \"font-weight: bold; text-align: right;\">98</td><td style = \"text-align: right;\">12.0</td><td style = \"text-align: right;\">98</td><td style = \"text-align: right;\">110.0</td><td style = \"text-align: right;\">250.0</td><td style = \"text-align: right;\">0.0</td></tr><tr><td class = \"rowNumber\" style = \"font-weight: bold; text-align: right;\">99</td><td style = \"text-align: right;\">12.0</td><td style = \"text-align: right;\">99</td><td style = \"text-align: right;\">110.0</td><td style = \"text-align: right;\">250.0</td><td style = \"text-align: right;\">0.0</td></tr><tr><td class = \"rowNumber\" style = \"font-weight: bold; text-align: right;\">100</td><td style = \"text-align: right;\">12.0</td><td style = \"text-align: right;\">100</td><td style = \"text-align: right;\">110.0</td><td style = \"text-align: right;\">250.0</td><td style = \"text-align: right;\">0.0</td></tr><tr><td class = \"rowNumber\" style = \"font-weight: bold; text-align: right;\">101</td><td style = \"text-align: right;\">12.0</td><td style = \"text-align: right;\">101</td><td style = \"text-align: right;\">110.0</td><td style = \"text-align: right;\">250.0</td><td style = \"text-align: right;\">0.0</td></tr></tbody></table></div>"
      ],
      "text/latex": [
       "\\begin{tabular}{r|ccccc}\n",
       "\t& λ & k & P\\_2 & P\\_1 & P\\_3\\\\\n",
       "\t\\hline\n",
       "\t& Float64 & Int64 & Float64 & Float64 & Float64\\\\\n",
       "\t\\hline\n",
       "\t1 & 8.6 & 1 & 0.0 & 0.0 & 0.0 \\\\\n",
       "\t2 & 9.8 & 2 & 20.0 & 220.0 & 0.0 \\\\\n",
       "\t3 & 10.9 & 3 & 0.0 & 250.0 & 0.0 \\\\\n",
       "\t4 & 12.0 & 4 & 4.44089e-14 & 250.0 & 0.0 \\\\\n",
       "\t5 & 12.0 & 5 & 110.0 & 250.0 & 0.0 \\\\\n",
       "\t6 & 12.0 & 6 & 110.0 & 250.0 & 0.0 \\\\\n",
       "\t7 & 12.0 & 7 & 110.0 & 250.0 & 0.0 \\\\\n",
       "\t8 & 12.0 & 8 & 110.0 & 250.0 & 0.0 \\\\\n",
       "\t9 & 12.0 & 9 & 110.0 & 250.0 & 0.0 \\\\\n",
       "\t10 & 12.0 & 10 & 110.0 & 250.0 & 0.0 \\\\\n",
       "\t11 & 12.0 & 11 & 110.0 & 250.0 & 0.0 \\\\\n",
       "\t12 & 12.0 & 12 & 110.0 & 250.0 & 0.0 \\\\\n",
       "\t13 & 12.0 & 13 & 110.0 & 250.0 & 0.0 \\\\\n",
       "\t14 & 12.0 & 14 & 110.0 & 250.0 & 0.0 \\\\\n",
       "\t15 & 12.0 & 15 & 110.0 & 250.0 & 0.0 \\\\\n",
       "\t16 & 12.0 & 16 & 110.0 & 250.0 & 0.0 \\\\\n",
       "\t17 & 12.0 & 17 & 110.0 & 250.0 & 0.0 \\\\\n",
       "\t18 & 12.0 & 18 & 110.0 & 250.0 & 0.0 \\\\\n",
       "\t19 & 12.0 & 19 & 110.0 & 250.0 & 0.0 \\\\\n",
       "\t20 & 12.0 & 20 & 110.0 & 250.0 & 0.0 \\\\\n",
       "\t21 & 12.0 & 21 & 110.0 & 250.0 & 0.0 \\\\\n",
       "\t22 & 12.0 & 22 & 110.0 & 250.0 & 0.0 \\\\\n",
       "\t23 & 12.0 & 23 & 110.0 & 250.0 & 0.0 \\\\\n",
       "\t24 & 12.0 & 24 & 110.0 & 250.0 & 0.0 \\\\\n",
       "\t$\\dots$ & $\\dots$ & $\\dots$ & $\\dots$ & $\\dots$ & $\\dots$ \\\\\n",
       "\\end{tabular}\n"
      ],
      "text/plain": [
       "\u001b[1m101×5 DataFrame\u001b[0m\n",
       "\u001b[1m Row \u001b[0m│\u001b[1m λ       \u001b[0m\u001b[1m k     \u001b[0m\u001b[1m P_2           \u001b[0m\u001b[1m P_1     \u001b[0m\u001b[1m P_3     \u001b[0m\n",
       "     │\u001b[90m Float64 \u001b[0m\u001b[90m Int64 \u001b[0m\u001b[90m Float64       \u001b[0m\u001b[90m Float64 \u001b[0m\u001b[90m Float64 \u001b[0m\n",
       "─────┼─────────────────────────────────────────────────\n",
       "   1 │     8.6      1    0.0              0.0      0.0\n",
       "   2 │     9.8      2   20.0            220.0      0.0\n",
       "   3 │    10.9      3    0.0            250.0      0.0\n",
       "   4 │    12.0      4    4.44089e-14    250.0      0.0\n",
       "   5 │    12.0      5  110.0            250.0      0.0\n",
       "   6 │    12.0      6  110.0            250.0      0.0\n",
       "   7 │    12.0      7  110.0            250.0      0.0\n",
       "   8 │    12.0      8  110.0            250.0      0.0\n",
       "  ⋮  │    ⋮       ⋮          ⋮           ⋮        ⋮\n",
       "  95 │    12.0     95  110.0            250.0      0.0\n",
       "  96 │    12.0     96  110.0            250.0      0.0\n",
       "  97 │    12.0     97  110.0            250.0      0.0\n",
       "  98 │    12.0     98  110.0            250.0      0.0\n",
       "  99 │    12.0     99  110.0            250.0      0.0\n",
       " 100 │    12.0    100  110.0            250.0      0.0\n",
       " 101 │    12.0    101  110.0            250.0      0.0\n",
       "\u001b[36m                                        86 rows omitted\u001b[0m"
      ]
     },
     "metadata": {},
     "output_type": "display_data"
    }
   ],
   "source": [
    "results = DataFrame(results)"
   ]
  },
  {
   "cell_type": "markdown",
   "metadata": {},
   "source": [
    "# Exchange ADMM"
   ]
  },
  {
   "cell_type": "code",
   "execution_count": 62,
   "metadata": {},
   "outputs": [
    {
     "data": {
      "text/plain": [
       "solve_decomposed_problems (generic function with 3 methods)"
      ]
     },
     "metadata": {},
     "output_type": "display_data"
    }
   ],
   "source": [
    "n_gens = 3\n",
    "cost = [10, 12, 15]\n",
    "\n",
    "P_lower = [0, 0, 0]\n",
    "P_upper = [250, 350, 300]\n",
    "α = 0.01\n",
    "\n",
    "\n",
    "function solve_decomposed_problems(λ, Pks)\n",
    "\tPks_next = []\n",
    "\tfor i in 1:n_gens\n",
    "\t\t# we don't pass all the Pks to the agent, but only the mean and his own\n",
    "\t\t# last value\n",
    "\t\tlast_Pk = Pks[i]\n",
    "\t\tmean_Pk = sum(Pks)/n_gens\n",
    "\n",
    "\t\tsp = JuMP.Model(() -> Gurobi.Optimizer(GRB_ENV))\n",
    "\t\tset_optimizer_attribute(sp, \"OutputFlag\", 0)\n",
    "\t\t@variable(sp, P_lower[i] <= P <= P_upper[i])\n",
    "\t\t@objective(sp, Min, P * cost[i] - λ * P + (α/2) * (-P - sum(3*mean_Pk - last_Pk) + 360)^2)\n",
    "\t\t\n",
    "\t\tJuMP.optimize!(sp)\n",
    "\n",
    "\t\tif JuMP.termination_status(sp) != MOI.OPTIMAL\n",
    "\t\t\tthrow(\"Decomposed problems are not optimal\")\n",
    "\t\tend\n",
    "\n",
    "\t\tpush!(Pks_next, JuMP.value.(P))\n",
    "\tend\n",
    "\treturn Pks_next\n",
    "end"
   ]
  },
  {
   "cell_type": "code",
   "execution_count": 63,
   "metadata": {},
   "outputs": [],
   "source": [
    "# exactly the same as above\n",
    "k = 0\n",
    "λs = []\n",
    "\n",
    "λ_current = 5\n",
    "results = []\n",
    "Pks = [10, 200, 150]\n",
    "while true\n",
    "\tλs = [λs; λ_current]\n",
    "\tPks = solve_decomposed_problems(λ_current, Pks)\n",
    "\n",
    "\tλ_last = λ_current\n",
    "\n",
    "\tλ_current = λ_current + α * (360 - sum(Pks))\n",
    "\tk += 1\n",
    "\n",
    "\n",
    "\tnew_r = Dict(\n",
    "\t\t:λ => λ_current,\n",
    "\t\t:k => k,\n",
    "\t)\n",
    "\tfor i in 1:n_gens\n",
    "\t\tnew_r[Symbol(\"P_$i\")] = Pks[i]\n",
    "\tend\n",
    "\tresults = [results; new_r]\n",
    "\n",
    "\n",
    "\tif k > 100\n",
    "\t\tbreak\n",
    "\tend\n",
    "\n",
    "end"
   ]
  },
  {
   "cell_type": "code",
   "execution_count": 64,
   "metadata": {},
   "outputs": [
    {
     "data": {
      "text/html": [
       "<div><div style = \"float: left;\"><span>101×5 DataFrame</span></div><div style = \"float: right;\"><span style = \"font-style: italic;\">76 rows omitted</span></div><div style = \"clear: both;\"></div></div><div class = \"data-frame\" style = \"overflow-x: scroll;\"><table class = \"data-frame\" style = \"margin-bottom: 6px;\"><thead><tr class = \"header\"><th class = \"rowNumber\" style = \"font-weight: bold; text-align: right;\">Row</th><th style = \"text-align: left;\">λ</th><th style = \"text-align: left;\">k</th><th style = \"text-align: left;\">P_2</th><th style = \"text-align: left;\">P_1</th><th style = \"text-align: left;\">P_3</th></tr><tr class = \"subheader headerLastRow\"><th class = \"rowNumber\" style = \"font-weight: bold; text-align: right;\"></th><th title = \"Float64\" style = \"text-align: left;\">Float64</th><th title = \"Int64\" style = \"text-align: left;\">Int64</th><th title = \"Float64\" style = \"text-align: left;\">Float64</th><th title = \"Float64\" style = \"text-align: left;\">Float64</th><th title = \"Float64\" style = \"text-align: left;\">Float64</th></tr></thead><tbody><tr><td class = \"rowNumber\" style = \"font-weight: bold; text-align: right;\">1</td><td style = \"text-align: right;\">8.6</td><td style = \"text-align: right;\">1</td><td style = \"text-align: right;\">0.0</td><td style = \"text-align: right;\">0.0</td><td style = \"text-align: right;\">0.0</td></tr><tr><td class = \"rowNumber\" style = \"font-weight: bold; text-align: right;\">2</td><td style = \"text-align: right;\">9.8</td><td style = \"text-align: right;\">2</td><td style = \"text-align: right;\">20.0</td><td style = \"text-align: right;\">220.0</td><td style = \"text-align: right;\">0.0</td></tr><tr><td class = \"rowNumber\" style = \"font-weight: bold; text-align: right;\">3</td><td style = \"text-align: right;\">10.9</td><td style = \"text-align: right;\">3</td><td style = \"text-align: right;\">0.0</td><td style = \"text-align: right;\">250.0</td><td style = \"text-align: right;\">0.0</td></tr><tr><td class = \"rowNumber\" style = \"font-weight: bold; text-align: right;\">4</td><td style = \"text-align: right;\">12.0</td><td style = \"text-align: right;\">4</td><td style = \"text-align: right;\">4.44089e-14</td><td style = \"text-align: right;\">250.0</td><td style = \"text-align: right;\">0.0</td></tr><tr><td class = \"rowNumber\" style = \"font-weight: bold; text-align: right;\">5</td><td style = \"text-align: right;\">12.0</td><td style = \"text-align: right;\">5</td><td style = \"text-align: right;\">110.0</td><td style = \"text-align: right;\">250.0</td><td style = \"text-align: right;\">0.0</td></tr><tr><td class = \"rowNumber\" style = \"font-weight: bold; text-align: right;\">6</td><td style = \"text-align: right;\">12.0</td><td style = \"text-align: right;\">6</td><td style = \"text-align: right;\">110.0</td><td style = \"text-align: right;\">250.0</td><td style = \"text-align: right;\">0.0</td></tr><tr><td class = \"rowNumber\" style = \"font-weight: bold; text-align: right;\">7</td><td style = \"text-align: right;\">12.0</td><td style = \"text-align: right;\">7</td><td style = \"text-align: right;\">110.0</td><td style = \"text-align: right;\">250.0</td><td style = \"text-align: right;\">0.0</td></tr><tr><td class = \"rowNumber\" style = \"font-weight: bold; text-align: right;\">8</td><td style = \"text-align: right;\">12.0</td><td style = \"text-align: right;\">8</td><td style = \"text-align: right;\">110.0</td><td style = \"text-align: right;\">250.0</td><td style = \"text-align: right;\">0.0</td></tr><tr><td class = \"rowNumber\" style = \"font-weight: bold; text-align: right;\">9</td><td style = \"text-align: right;\">12.0</td><td style = \"text-align: right;\">9</td><td style = \"text-align: right;\">110.0</td><td style = \"text-align: right;\">250.0</td><td style = \"text-align: right;\">0.0</td></tr><tr><td class = \"rowNumber\" style = \"font-weight: bold; text-align: right;\">10</td><td style = \"text-align: right;\">12.0</td><td style = \"text-align: right;\">10</td><td style = \"text-align: right;\">110.0</td><td style = \"text-align: right;\">250.0</td><td style = \"text-align: right;\">0.0</td></tr><tr><td class = \"rowNumber\" style = \"font-weight: bold; text-align: right;\">11</td><td style = \"text-align: right;\">12.0</td><td style = \"text-align: right;\">11</td><td style = \"text-align: right;\">110.0</td><td style = \"text-align: right;\">250.0</td><td style = \"text-align: right;\">0.0</td></tr><tr><td class = \"rowNumber\" style = \"font-weight: bold; text-align: right;\">12</td><td style = \"text-align: right;\">12.0</td><td style = \"text-align: right;\">12</td><td style = \"text-align: right;\">110.0</td><td style = \"text-align: right;\">250.0</td><td style = \"text-align: right;\">0.0</td></tr><tr><td class = \"rowNumber\" style = \"font-weight: bold; text-align: right;\">13</td><td style = \"text-align: right;\">12.0</td><td style = \"text-align: right;\">13</td><td style = \"text-align: right;\">110.0</td><td style = \"text-align: right;\">250.0</td><td style = \"text-align: right;\">0.0</td></tr><tr><td style = \"text-align: right;\">&vellip;</td><td style = \"text-align: right;\">&vellip;</td><td style = \"text-align: right;\">&vellip;</td><td style = \"text-align: right;\">&vellip;</td><td style = \"text-align: right;\">&vellip;</td><td style = \"text-align: right;\">&vellip;</td></tr><tr><td class = \"rowNumber\" style = \"font-weight: bold; text-align: right;\">90</td><td style = \"text-align: right;\">12.0</td><td style = \"text-align: right;\">90</td><td style = \"text-align: right;\">110.0</td><td style = \"text-align: right;\">250.0</td><td style = \"text-align: right;\">0.0</td></tr><tr><td class = \"rowNumber\" style = \"font-weight: bold; text-align: right;\">91</td><td style = \"text-align: right;\">12.0</td><td style = \"text-align: right;\">91</td><td style = \"text-align: right;\">110.0</td><td style = \"text-align: right;\">250.0</td><td style = \"text-align: right;\">0.0</td></tr><tr><td class = \"rowNumber\" style = \"font-weight: bold; text-align: right;\">92</td><td style = \"text-align: right;\">12.0</td><td style = \"text-align: right;\">92</td><td style = \"text-align: right;\">110.0</td><td style = \"text-align: right;\">250.0</td><td style = \"text-align: right;\">0.0</td></tr><tr><td class = \"rowNumber\" style = \"font-weight: bold; text-align: right;\">93</td><td style = \"text-align: right;\">12.0</td><td style = \"text-align: right;\">93</td><td style = \"text-align: right;\">110.0</td><td style = \"text-align: right;\">250.0</td><td style = \"text-align: right;\">0.0</td></tr><tr><td class = \"rowNumber\" style = \"font-weight: bold; text-align: right;\">94</td><td style = \"text-align: right;\">12.0</td><td style = \"text-align: right;\">94</td><td style = \"text-align: right;\">110.0</td><td style = \"text-align: right;\">250.0</td><td style = \"text-align: right;\">0.0</td></tr><tr><td class = \"rowNumber\" style = \"font-weight: bold; text-align: right;\">95</td><td style = \"text-align: right;\">12.0</td><td style = \"text-align: right;\">95</td><td style = \"text-align: right;\">110.0</td><td style = \"text-align: right;\">250.0</td><td style = \"text-align: right;\">0.0</td></tr><tr><td class = \"rowNumber\" style = \"font-weight: bold; text-align: right;\">96</td><td style = \"text-align: right;\">12.0</td><td style = \"text-align: right;\">96</td><td style = \"text-align: right;\">110.0</td><td style = \"text-align: right;\">250.0</td><td style = \"text-align: right;\">0.0</td></tr><tr><td class = \"rowNumber\" style = \"font-weight: bold; text-align: right;\">97</td><td style = \"text-align: right;\">12.0</td><td style = \"text-align: right;\">97</td><td style = \"text-align: right;\">110.0</td><td style = \"text-align: right;\">250.0</td><td style = \"text-align: right;\">0.0</td></tr><tr><td class = \"rowNumber\" style = \"font-weight: bold; text-align: right;\">98</td><td style = \"text-align: right;\">12.0</td><td style = \"text-align: right;\">98</td><td style = \"text-align: right;\">110.0</td><td style = \"text-align: right;\">250.0</td><td style = \"text-align: right;\">0.0</td></tr><tr><td class = \"rowNumber\" style = \"font-weight: bold; text-align: right;\">99</td><td style = \"text-align: right;\">12.0</td><td style = \"text-align: right;\">99</td><td style = \"text-align: right;\">110.0</td><td style = \"text-align: right;\">250.0</td><td style = \"text-align: right;\">0.0</td></tr><tr><td class = \"rowNumber\" style = \"font-weight: bold; text-align: right;\">100</td><td style = \"text-align: right;\">12.0</td><td style = \"text-align: right;\">100</td><td style = \"text-align: right;\">110.0</td><td style = \"text-align: right;\">250.0</td><td style = \"text-align: right;\">0.0</td></tr><tr><td class = \"rowNumber\" style = \"font-weight: bold; text-align: right;\">101</td><td style = \"text-align: right;\">12.0</td><td style = \"text-align: right;\">101</td><td style = \"text-align: right;\">110.0</td><td style = \"text-align: right;\">250.0</td><td style = \"text-align: right;\">0.0</td></tr></tbody></table></div>"
      ],
      "text/latex": [
       "\\begin{tabular}{r|ccccc}\n",
       "\t& λ & k & P\\_2 & P\\_1 & P\\_3\\\\\n",
       "\t\\hline\n",
       "\t& Float64 & Int64 & Float64 & Float64 & Float64\\\\\n",
       "\t\\hline\n",
       "\t1 & 8.6 & 1 & 0.0 & 0.0 & 0.0 \\\\\n",
       "\t2 & 9.8 & 2 & 20.0 & 220.0 & 0.0 \\\\\n",
       "\t3 & 10.9 & 3 & 0.0 & 250.0 & 0.0 \\\\\n",
       "\t4 & 12.0 & 4 & 4.44089e-14 & 250.0 & 0.0 \\\\\n",
       "\t5 & 12.0 & 5 & 110.0 & 250.0 & 0.0 \\\\\n",
       "\t6 & 12.0 & 6 & 110.0 & 250.0 & 0.0 \\\\\n",
       "\t7 & 12.0 & 7 & 110.0 & 250.0 & 0.0 \\\\\n",
       "\t8 & 12.0 & 8 & 110.0 & 250.0 & 0.0 \\\\\n",
       "\t9 & 12.0 & 9 & 110.0 & 250.0 & 0.0 \\\\\n",
       "\t10 & 12.0 & 10 & 110.0 & 250.0 & 0.0 \\\\\n",
       "\t11 & 12.0 & 11 & 110.0 & 250.0 & 0.0 \\\\\n",
       "\t12 & 12.0 & 12 & 110.0 & 250.0 & 0.0 \\\\\n",
       "\t13 & 12.0 & 13 & 110.0 & 250.0 & 0.0 \\\\\n",
       "\t14 & 12.0 & 14 & 110.0 & 250.0 & 0.0 \\\\\n",
       "\t15 & 12.0 & 15 & 110.0 & 250.0 & 0.0 \\\\\n",
       "\t16 & 12.0 & 16 & 110.0 & 250.0 & 0.0 \\\\\n",
       "\t17 & 12.0 & 17 & 110.0 & 250.0 & 0.0 \\\\\n",
       "\t18 & 12.0 & 18 & 110.0 & 250.0 & 0.0 \\\\\n",
       "\t19 & 12.0 & 19 & 110.0 & 250.0 & 0.0 \\\\\n",
       "\t20 & 12.0 & 20 & 110.0 & 250.0 & 0.0 \\\\\n",
       "\t21 & 12.0 & 21 & 110.0 & 250.0 & 0.0 \\\\\n",
       "\t22 & 12.0 & 22 & 110.0 & 250.0 & 0.0 \\\\\n",
       "\t23 & 12.0 & 23 & 110.0 & 250.0 & 0.0 \\\\\n",
       "\t24 & 12.0 & 24 & 110.0 & 250.0 & 0.0 \\\\\n",
       "\t$\\dots$ & $\\dots$ & $\\dots$ & $\\dots$ & $\\dots$ & $\\dots$ \\\\\n",
       "\\end{tabular}\n"
      ],
      "text/plain": [
       "\u001b[1m101×5 DataFrame\u001b[0m\n",
       "\u001b[1m Row \u001b[0m│\u001b[1m λ       \u001b[0m\u001b[1m k     \u001b[0m\u001b[1m P_2           \u001b[0m\u001b[1m P_1     \u001b[0m\u001b[1m P_3     \u001b[0m\n",
       "     │\u001b[90m Float64 \u001b[0m\u001b[90m Int64 \u001b[0m\u001b[90m Float64       \u001b[0m\u001b[90m Float64 \u001b[0m\u001b[90m Float64 \u001b[0m\n",
       "─────┼─────────────────────────────────────────────────\n",
       "   1 │     8.6      1    0.0              0.0      0.0\n",
       "   2 │     9.8      2   20.0            220.0      0.0\n",
       "   3 │    10.9      3    0.0            250.0      0.0\n",
       "   4 │    12.0      4    4.44089e-14    250.0      0.0\n",
       "   5 │    12.0      5  110.0            250.0      0.0\n",
       "   6 │    12.0      6  110.0            250.0      0.0\n",
       "   7 │    12.0      7  110.0            250.0      0.0\n",
       "   8 │    12.0      8  110.0            250.0      0.0\n",
       "  ⋮  │    ⋮       ⋮          ⋮           ⋮        ⋮\n",
       "  95 │    12.0     95  110.0            250.0      0.0\n",
       "  96 │    12.0     96  110.0            250.0      0.0\n",
       "  97 │    12.0     97  110.0            250.0      0.0\n",
       "  98 │    12.0     98  110.0            250.0      0.0\n",
       "  99 │    12.0     99  110.0            250.0      0.0\n",
       " 100 │    12.0    100  110.0            250.0      0.0\n",
       " 101 │    12.0    101  110.0            250.0      0.0\n",
       "\u001b[36m                                        86 rows omitted\u001b[0m"
      ]
     },
     "metadata": {},
     "output_type": "display_data"
    }
   ],
   "source": [
    "df = DataFrame(results)"
   ]
  },
  {
   "attachments": {
    "image-2.png": {
     "image/png": "[encoded data removed]"
    }
   },
   "cell_type": "markdown",
   "metadata": {},
   "source": [
    "# Consensus ADMM\n",
    "![image.png](attachment:image-2.png)\n"
   ]
  },
  {
   "cell_type": "markdown",
   "metadata": {},
   "source": [
    "lines im uhrzeigersinn"
   ]
  },
  {
   "cell_type": "code",
   "execution_count": 105,
   "metadata": {},
   "outputs": [
    {
     "data": {
      "text/plain": [
       "3"
      ]
     },
     "metadata": {},
     "output_type": "display_data"
    }
   ],
   "source": [
    "P_min = [0, 0, 0]\n",
    "P_max = [250, 300, 350]\n",
    "\n",
    "load = [160, 100, 50]\n",
    "\n",
    "l_from = [0, 1, 2]\n",
    "l_to = [1, 2, 0]\n",
    "# l_cap = [100, 100, 100]\n",
    "\n",
    "n_gens = 3"
   ]
  },
  {
   "cell_type": "code",
   "execution_count": 17,
   "metadata": {},
   "outputs": [
    {
     "data": {
      "text/plain": [
       "Dict{Symbol, Dict{Symbol, Any}} with 3 entries:\n",
       "  :L2 => Dict(:id=>:L2, :from=>:B2, :to=>:B3, :capacity=>100)\n",
       "  :L1 => Dict(:id=>:L1, :from=>:B1, :to=>:B2, :capacity=>100)\n",
       "  :L3 => Dict(:id=>:L3, :from=>:B3, :to=>:B1, :capacity=>100)"
      ]
     },
     "metadata": {},
     "output_type": "display_data"
    }
   ],
   "source": [
    "busses = Dict(\n",
    "\t:B1 => Dict(\n",
    "\t\t:id => :B1,\n",
    "\t\t:cost => 12,\n",
    "\t\t:P_min => 0,\n",
    "\t\t:P_max => 250,\n",
    "\t\t:load => 160,\n",
    "\t\t:incoming => [:L3],\n",
    "\t\t:outgoing => [:L1],\n",
    "\t\t:is_reference => true,\n",
    "\t),\n",
    "\t:B2 => Dict(\n",
    "\t\t:id => :B2,\n",
    "\t\t:cost => 20,\n",
    "\t\t:P_min => 0,\n",
    "\t\t:P_max => 300,\n",
    "\t\t:load => 100,\n",
    "\t\t:incoming => [:L1],\n",
    "\t\t:outgoing => [:L2],\n",
    "\t),\n",
    "\t:B3 => Dict(\n",
    "\t\t:id => :B3,\n",
    "\t\t:cost => 17,\n",
    "\t\t:P_min => 0,\n",
    "\t\t:P_max => 350,\n",
    "\t\t:load => 50,\n",
    "\t\t:incoming => [:L2],\n",
    "\t\t:outgoing => [:L3],\n",
    "\t),\n",
    ")\n",
    "\n",
    "lines = Dict(\n",
    "\t:L1 => Dict(\n",
    "\t\t:id => :L1,\n",
    "\t\t:from => :B1,\n",
    "\t\t:to => :B2,\n",
    "\t\t:capacity => 100,\n",
    "\t),\n",
    "\t:L2 => Dict(\n",
    "\t\t:id => :L2,\n",
    "\t\t:from => :B2,\n",
    "\t\t:to => :B3,\n",
    "\t\t:capacity => 100,\n",
    "\t),\n",
    "\t:L3 => Dict(\n",
    "\t\t:id => :L3,\n",
    "\t\t:from => :B3,\n",
    "\t\t:to => :B1,\n",
    "\t\t:capacity => 100,\n",
    "\t),\n",
    ")"
   ]
  },
  {
   "cell_type": "code",
   "execution_count": 151,
   "metadata": {},
   "outputs": [
    {
     "data": {
      "text/plain": [
       "solve_line_problem (generic function with 1 method)"
      ]
     },
     "metadata": {},
     "output_type": "display_data"
    }
   ],
   "source": [
    "ρ = 0.1\n",
    "\n",
    "function solve_bus_problem(bus, δs, λ_δs)\n",
    "    m = JuMP.Model(() -> Gurobi.Optimizer(GRB_ENV))\n",
    "    set_optimizer_attribute(m, \"OutputFlag\", 0)\n",
    "\n",
    "    @variable(m, bus[:P_min] <= P <= bus[:P_max])\n",
    "\n",
    "    @variable(m, δ[line_id in vcat(bus[:incoming], bus[:outgoing])])\n",
    "\n",
    "    @constraint(m,\n",
    "        bus[:load] ==\n",
    "        P +\n",
    "        sum(δ[line_id] for line_id in bus[:incoming]) -\n",
    "        sum(δ[line_id] for line_id in bus[:outgoing])\n",
    "    )\n",
    "\n",
    "    @objective(m, Min, bus[:cost] * P + \n",
    "\t\t sum(λ_δs[line_id] * δ[line_id] for line_id in vcat(bus[:incoming], bus[:outgoing])) +\n",
    "\t\t  ρ / 2 * sum((δ[line_id] - δs[line_id])^2 for line_id in vcat(bus[:incoming], bus[:outgoing])))\n",
    "\n",
    "    JuMP.optimize!(m)\n",
    "\n",
    "    δ_results = Dict()\n",
    "    for line_id in vcat(bus[:incoming], bus[:outgoing])\n",
    "        δ_results[line_id] = JuMP.value.(δ[line_id])\n",
    "    end\n",
    "    return Dict(\n",
    "        :P => JuMP.value.(P),\n",
    "        :δ => δ_results,\n",
    "    )\n",
    "end\n",
    "\n",
    "\n",
    "function solve_line_problem(line, δs, λ_δs)\n",
    "    m = JuMP.Model(() -> Gurobi.Optimizer(GRB_ENV))\n",
    "    set_optimizer_attribute(m, \"OutputFlag\", 0)\n",
    "\n",
    "    @variable(m, -line[:capacity] <= δ <= line[:capacity])\n",
    "\n",
    "    @objective(m, Min, λ_δs[line[:id]] * δ + ρ / 2 * (δ - δs[line[:id]])^2)\n",
    "\n",
    "    JuMP.optimize!(m)\n",
    "    return Dict(\n",
    "        :δ => Dict(line[:id] => JuMP.value.(δ))\n",
    "    )\n",
    "end"
   ]
  },
  {
   "cell_type": "code",
   "execution_count": 152,
   "metadata": {},
   "outputs": [
    {
     "data": {
      "text/plain": [
       "Dict{Any, Any} with 6 entries:\n",
       "  :B3 => Dict{Any, Any}(:L2=>0, :L3=>0)\n",
       "  :L2 => Dict(:L2=>0)\n",
       "  :B1 => Dict{Any, Any}(:L3=>0, :L1=>0)\n",
       "  :L1 => Dict(:L1=>0)\n",
       "  :L3 => Dict(:L3=>0)\n",
       "  :B2 => Dict{Any, Any}(:L2=>0, :L1=>0)"
      ]
     },
     "metadata": {},
     "output_type": "display_data"
    }
   ],
   "source": [
    "δs = Dict()\n",
    "for line_id in keys(lines)\n",
    "\tδs[line_id] = 0\n",
    "end\n",
    "λ_δs = Dict()\n",
    "for line_id in keys(lines)\n",
    "\tλ_δs[line_id] = Dict(line_id => 0)\n",
    "end\n",
    "for bus_id in keys(busses)\n",
    "\tλ_δs[bus_id] = Dict()\n",
    "\tfor line_id in vcat(busses[bus_id][:incoming], busses[bus_id][:outgoing])\n",
    "\t\tλ_δs[bus_id][line_id] = 0\n",
    "\tend\n",
    "end\n",
    "\n",
    "λ_δs"
   ]
  },
  {
   "cell_type": "code",
   "execution_count": 153,
   "metadata": {},
   "outputs": [
    {
     "name": "stdout",
     "output_type": "stream",
     "text": [
      "  1 17533.33333283003 15.779999999547028\n",
      "  2 13787.037035898597 12.408333332308741\n",
      "  3 10110.596707457691 9.099537036711926\n",
      "  4 3822.9881118784897 3.440689300690641\n",
      "  5 271.10196513704096 0.2439917686233369\n",
      "  6 73.93721702311771 0.06654349532080603\n",
      "  7 800.7960366332934 0.7207164329699648\n",
      "  8 644.6998447891042 0.5802298603101936\n",
      "  9 163.1222439255187 0.14681001953296682\n",
      " 10 65.04749637942011 0.058542746741478\n",
      " 11 110.85612412735543 0.09977051171462008\n",
      " 12 80.62220045511575 0.07255998040960428\n",
      " 13 25.051740520439722 0.02254656646839582\n",
      " 14 2.7951330850526586 0.0025156197765474012\n",
      " 15 3.7234454158434165 0.0033511008742590867\n",
      " 16 9.462805374724516 0.008516524837252097\n",
      " 17 14.626036496741596 0.013163432847067495\n",
      " 18 16.546562021574257 0.01489190581941687\n",
      " 19 13.46450972312731 0.012118058750814557\n",
      " 20 7.349473065641155 0.006614525759077033\n",
      " 21 2.0888276847315703 0.0018799449162583966\n",
      " 22 0.025047914409122813 2.2543122968210393e-5\n",
      " 23 0.8868267460372984 0.0007981440714335551\n",
      " 24 2.862354463451268 0.0025761190171061897\n",
      " 25 4.145704365725425 0.003731133929152894\n",
      " 26 3.941248962374266 0.0035471240661368265\n",
      " 27 2.600520114491016 0.0023404681030418616\n",
      " 28 1.0675273008760833 0.0009607745707884657\n",
      " 29 0.14291388470877422 0.00012862249623790009\n",
      " 30 0.05334297174252296 4.800867456827013e-5\n",
      " 31 0.48981238944469696 0.00044083115050023465\n",
      " 32 0.9485642143136486 0.0008537077928822988\n",
      " 33 1.0816325044262678 0.0009734692539836376\n"
     ]
    },
    {
     "name": "stdout",
     "output_type": "stream",
     "text": [
      " 34 0.8496248263408425 0.0007646623437067574\n",
      " 35 0.4483332210363946 0.0004034998989327615\n",
      " 36 0.12098949593259382 0.0001088905463393385\n",
      " 37 0.00047313173887333514 4.25818564985945e-7\n",
      " 38 0.06432550551292586 5.789295496162618e-5\n",
      " 39 0.1943273291626029 0.00017489459624633595\n",
      " 40 0.2739008938140467 0.000246510804432639\n",
      " 41 0.2549282715237131 0.00022943544437134655\n",
      " 42 0.16433099028436388 0.00014789789125591664\n",
      " 43 0.06496169609651226 5.8465526486866694e-5\n",
      " 44 0.007565247538922058 6.808722785029652e-6\n",
      " 45 0.004547151083001708 4.092435974700671e-6\n",
      " 46 0.034176758620821444 3.075908275873844e-5\n",
      " 47 0.0634647745035272 5.711829705317037e-5\n",
      " 48 0.07065617254644486 6.359055529179327e-5\n",
      " 49 0.0543287789503644 4.889590105533315e-5\n",
      " 50 0.027877424284948167 2.5089681856449652e-5\n",
      " 51 0.007062347735428253 6.356112961884742e-6\n"
     ]
    }
   ],
   "source": [
    "ϵ = 0.0001\n",
    "Ps = Dict()\n",
    "for i in 1:100\n",
    "\tresults = Dict()\n",
    "\tPs = Dict()\n",
    "\tfor (bus_id, bus) in busses\n",
    "\t\tbus_result = solve_bus_problem(bus, δs, λ_δs[bus_id])\n",
    "\t\tresults[bus_id] = bus_result[:δ]\n",
    "\t\tPs[bus_id] = bus_result[:P]\n",
    "\tend\n",
    "\n",
    "\tfor (line_id, line) in lines\n",
    "\t\tresults[line_id] = solve_line_problem(line, δs, λ_δs[line_id])[:δ]\n",
    "\tend\n",
    "\n",
    "\tpooled_results = Dict()\n",
    "\tfor result in values(results)\n",
    "\t\tfor (key, value) in result\n",
    "\t\t\tif !haskey(pooled_results, key)\n",
    "\t\t\t\tpooled_results[key] = []\n",
    "\t\t\tend\n",
    "\t\t\tpush!(pooled_results[key], value)\n",
    "\t\tend\n",
    "\tend\n",
    "\n",
    "\tagg_results = Dict()\n",
    "\tfor (key, value) in pooled_results\n",
    "\t\tagg_results[key] = sum(value) / length(value)\n",
    "\tend\n",
    "\n",
    "\tresiduals = []\n",
    "\tdiffs_λ_δs = []\n",
    "\tnew_λ_δs = Dict()\n",
    "\tfor line_id in keys(lines)\n",
    "\t\tlocal_results = results[line_id]\n",
    "\t\tresidual = local_results[line_id] - agg_results[line_id]\n",
    "\n",
    "\t\tpush!(residuals, residual)\n",
    "\t\tnew_λ_δs[line_id] = Dict(line_id => λ_δs[line_id][line_id] + ρ * residual)\n",
    "\t\tpush!(diffs_λ_δs, new_λ_δs[line_id][line_id] - λ_δs[line_id][line_id])\n",
    "\tend\n",
    "\n",
    "\tfor (bus_id, bus) in busses\n",
    "\t\tlocal_results = results[bus_id]\n",
    "\t\tnew_λ_δ = Dict()\n",
    "\t\tfor line_id in vcat(bus[:incoming], bus[:outgoing])\n",
    "\t\t\tresidual = local_results[line_id] - agg_results[line_id]\n",
    "\n",
    "\t\t\tpush!(residuals, residual)\n",
    "\t\t\tnew_λ_δ[line_id] = λ_δs[bus_id][line_id] + ρ * residual\n",
    "\t\t\tpush!(diffs_λ_δs, new_λ_δ[line_id] - λ_δs[bus_id][line_id])\n",
    "\t\tend\n",
    "\t\tnew_λ_δs[bus_id] = new_λ_δ\n",
    "\tend\n",
    "\n",
    "\tr = sum((residuals).^2)\n",
    "\ts = sum((diffs_λ_δs).^2) * ρ^2 * length(diffs_λ_δs)\n",
    "\n",
    "\tλ_δs = new_λ_δs\n",
    "\tδs = agg_results\n",
    "\n",
    "\tprimal_convergence = r < ϵ\n",
    "\tdual_convergence = s < ϵ\n",
    "\n",
    "\tif primal_convergence && dual_convergence\n",
    "\t\t\n",
    "\t\tbreak\n",
    "\tend\n",
    "\n",
    "\t# print convergence with consistent spacing\n",
    "\tprint(lpad(i, 3, \" \"))\n",
    "\tprint(\" \")\n",
    "\tprint(lpad(r, 10, \" \"))\n",
    "\tprint(\" \")\n",
    "\tprintln(lpad(s, 10, \" \"))\n",
    "end"
   ]
  },
  {
   "cell_type": "code",
   "execution_count": 150,
   "metadata": {},
   "outputs": [
    {
     "data": {
      "text/plain": [
       "Dict{Any, Any} with 3 entries:\n",
       "  :L2 => -9.0\n",
       "  :L3 => -7.0\n",
       "  :L1 => 16.0"
      ]
     },
     "metadata": {},
     "output_type": "display_data"
    }
   ],
   "source": [
    "δs"
   ]
  },
  {
   "cell_type": "code",
   "execution_count": 138,
   "metadata": {},
   "outputs": [
    {
     "data": {
      "text/plain": [
       "Dict{Any, Any} with 3 entries:\n",
       "  :B3 => 60.002\n",
       "  :B1 => 250.0\n",
       "  :B2 => 5.57712e-10"
      ]
     },
     "metadata": {},
     "output_type": "display_data"
    }
   ],
   "source": [
    "Ps"
   ]
  },
  {
   "cell_type": "code",
   "execution_count": 121,
   "metadata": {},
   "outputs": [],
   "source": [
    "# test results with simple model\n",
    "m = JuMP.Model(() -> Gurobi.Optimizer(GRB_ENV))\n",
    "set_optimizer_attribute(m, \"OutputFlag\", 0)\n",
    "\n",
    "\n",
    "@variable(m, busses[bus_id][:P_min] <= P[bus_id in keys(busses)] <= busses[bus_id][:P_max])\n",
    "\n",
    "@variable(m, -lines[line_id][:capacity] <= δ[line_id in keys(lines)] <= lines[line_id][:capacity])\n",
    "\n",
    "for (bus_id, bus) in busses\n",
    "\t@constraint(m,\n",
    "\t\tbus[:load] ==\n",
    "\t\tP[bus_id] +\n",
    "\t\tsum(δ[line_id] for line_id in bus[:incoming]) -\n",
    "\t\tsum(δ[line_id] for line_id in bus[:outgoing])\n",
    "\t)\n",
    "end\n",
    "\n",
    "@objective(m, Min, sum(bus[:cost] * P[bus_id] for (bus_id, bus) in busses))\n",
    "\n",
    "JuMP.optimize!(m)\n",
    "\n",
    "Ps_test = JuMP.value.(P)\n",
    "δs_test = Dict()\n",
    "for line_id in keys(lines)\n",
    "\tδs_test[line_id] = JuMP.value.(δ[line_id])\n",
    "end"
   ]
  },
  {
   "cell_type": "code",
   "execution_count": 122,
   "metadata": {},
   "outputs": [
    {
     "data": {
      "text/plain": [
       "1-dimensional DenseAxisArray{Float64,1,...} with index sets:\n",
       "    Dimension 1, [:B3, :B1, :B2]\n",
       "And data, a 3-element Vector{Float64}:\n",
       "  60.0\n",
       " 250.0\n",
       "   0.0"
      ]
     },
     "metadata": {},
     "output_type": "display_data"
    }
   ],
   "source": [
    "Ps_test"
   ]
  },
  {
   "cell_type": "code",
   "execution_count": 123,
   "metadata": {},
   "outputs": [
    {
     "data": {
      "text/plain": [
       "Dict{Any, Any} with 3 entries:\n",
       "  :L2 => -100.0\n",
       "  :L1 => 0.0\n",
       "  :L3 => -90.0"
      ]
     },
     "metadata": {},
     "output_type": "display_data"
    }
   ],
   "source": [
    "δs_test"
   ]
  },
  {
   "cell_type": "code",
   "execution_count": null,
   "metadata": {},
   "outputs": [],
   "source": []
  }
 ],
 "metadata": {
  "kernelspec": {
   "display_name": "Julia 1.8.5",
   "language": "julia",
   "name": "julia-1.8"
  },
  "language_info": {
   "file_extension": ".jl",
   "mimetype": "application/julia",
   "name": "julia",
   "version": "1.8.5"
  },
  "orig_nbformat": 4
 },
 "nbformat": 4,
 "nbformat_minor": 2
}
