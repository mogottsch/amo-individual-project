{
 "cells": [
  {
   "cell_type": "code",
   "execution_count": 1,
   "metadata": {},
   "outputs": [
    {
     "name": "stderr",
     "output_type": "stream",
     "text": [
      "\u001b[32m\u001b[1m  Activating\u001b[22m\u001b[39m project at `~/dev/uni/amo-individual-project`\n"
     ]
    }
   ],
   "source": [
    "using Pkg;\n",
    "Pkg.activate(\"..\");\n",
    "Pkg.instantiate();"
   ]
  },
  {
   "cell_type": "code",
   "execution_count": 2,
   "metadata": {},
   "outputs": [],
   "source": [
    "using WebSockets"
   ]
  },
  {
   "cell_type": "code",
   "execution_count": 3,
   "metadata": {},
   "outputs": [
    {
     "name": "stderr",
     "output_type": "stream",
     "text": [
      "┌ Info: In browser > 192.168.0.129:1234 , F12> console > ws = new WebSocket(\"ws://192.168.0.129:1234\") \n",
      "└ @ Main /home/moritz/dev/uni/amo-individual-project/notebooks/ws.ipynb:37\n"
     ]
    },
    {
     "name": "stderr",
     "output_type": "stream",
     "text": [
      "\u001b[36m\u001b[1m┌ \u001b[22m\u001b[39m\u001b[36m\u001b[1mInfo: \u001b[22m\u001b[39m\n",
      "\u001b[36m\u001b[1m└ \u001b[22m\u001b[39mOrigin:    Target: /   subprotocol: \n",
      "\u001b[36m\u001b[1m┌ \u001b[22m\u001b[39m\u001b[36m\u001b[1mInfo: \u001b[22m\u001b[39mNon-browser clients don't send Origin. We liberally accept the update request in this case:\n",
      "\u001b[36m\u001b[1m└ \u001b[22m\u001b[39m  ws = WebSocket{TCPSocket}(server, \u001b[32mCONNECTED\u001b[39m): \u001b[32m✓\u001b[39m\n"
     ]
    },
    {
     "name": "stderr",
     "output_type": "stream",
     "text": [
      "\u001b[36m\u001b[1m┌ \u001b[22m\u001b[39m\u001b[36m\u001b[1mInfo: \u001b[22m\u001b[39mStarted coroutine for \n",
      "\u001b[36m\u001b[1m└ \u001b[22m\u001b[39m  ws = WebSocket{TCPSocket}(server, \u001b[32mCONNECTED\u001b[39m): \u001b[32m✓\u001b[39m\n",
      "\u001b[36m\u001b[1m[ \u001b[22m\u001b[39m\u001b[36m\u001b[1mInfo: \u001b[22m\u001b[39mReceived: Hello from client 1\n",
      "\u001b[36m\u001b[1m┌ \u001b[22m\u001b[39m\u001b[36m\u001b[1mInfo: \u001b[22m\u001b[39mWill now close \n",
      "\u001b[36m\u001b[1m└ \u001b[22m\u001b[39m  ws = WebSocket{TCPSocket}(server, \u001b[32mCONNECTED\u001b[39m): \u001b[31mpaused\u001b[39m, 6 bytes\n"
     ]
    }
   ],
   "source": [
    "import Sockets\n",
    "const LOCALIP = string(Sockets.getipaddr())\n",
    "const PORT = 1234\n",
    "\n",
    "function coroutine(ws)\n",
    "    @info \"Started coroutine for \" ws\n",
    "    while isopen(ws)\n",
    "        data, = readguarded(ws)\n",
    "        s = String(data)\n",
    "        if s == \"\"\n",
    "            writeguarded(ws, \"Goodbye!\")\n",
    "            break\n",
    "        end\n",
    "        @info \"Received: $s\"\n",
    "        writeguarded(ws, \"Hello! Send empty message to exit, or just leave.\")\n",
    "    end\n",
    "    @info \"Will now close \" ws\n",
    "end\n",
    "\n",
    "function gatekeeper(req, ws)\n",
    "    orig = WebSockets.origin(req)\n",
    "    @info \"\\nOrigin: $orig   Target: $(req.target)   subprotocol: $(subprotocol(req))\"\n",
    "    if occursin(LOCALIP, orig)\n",
    "        coroutine(ws)\n",
    "    elseif orig == \"\"\n",
    "        @info \"Non-browser clients don't send Origin. We liberally accept the update request in this case:\" ws\n",
    "        coroutine(ws)\n",
    "    else\n",
    "        @warn \"Inacceptable request\"\n",
    "    end\n",
    "end\n",
    "\n",
    "handle(req) = println(\"Got request: \", req.target)\n",
    "\n",
    "const server = WebSockets.ServerWS(handle, gatekeeper)\n",
    "\n",
    "@info \"In browser > $LOCALIP:$PORT , F12> console > ws = new WebSocket(\\\"ws://$LOCALIP:$PORT\\\") \"\n",
    "WebSockets.with_logger(WebSocketLogger()) do\n",
    "    WebSockets.serve(server, LOCALIP, PORT)\n",
    "end"
   ]
  }
 ],
 "metadata": {
  "kernelspec": {
   "display_name": "Julia 1.8.5",
   "language": "julia",
   "name": "julia-1.8"
  },
  "language_info": {
   "file_extension": ".jl",
   "mimetype": "application/julia",
   "name": "julia",
   "version": "1.8.5"
  },
  "orig_nbformat": 4
 },
 "nbformat": 4,
 "nbformat_minor": 2
}
