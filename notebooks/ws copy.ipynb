{
 "cells": [
  {
   "cell_type": "code",
   "execution_count": 4,
   "metadata": {},
   "outputs": [
    {
     "name": "stderr",
     "output_type": "stream",
     "text": [
      "\u001b[32m\u001b[1m  Activating\u001b[22m\u001b[39m project at `~/dev/uni/amo-individual-project`\n"
     ]
    }
   ],
   "source": [
    "using Pkg;\n",
    "Pkg.activate(\"..\");\n",
    "Pkg.instantiate();"
   ]
  },
  {
   "cell_type": "code",
   "execution_count": 5,
   "metadata": {},
   "outputs": [],
   "source": [
    "\n",
    "using WebSockets"
   ]
  },
  {
   "cell_type": "code",
   "execution_count": 6,
   "metadata": {},
   "outputs": [
    {
     "name": "stdout",
     "output_type": "stream",
     "text": [
      "Received:Hello! Send empty message to exit, or just leave.\n"
     ]
    },
    {
     "data": {
      "text/plain": [
       "HTTP.Messages.Response:\n",
       "\"\"\"\n",
       "HTTP/1.1 101 Switching Protocols\r\n",
       "Sec-WebSocket-Accept: woJekHJJ/Pi04COBPX2V7Xo4L+U=\r\n",
       "Upgrade: websocket\r\n",
       "Connection: Upgrade\r\n",
       "\r\n",
       "\"\"\""
      ]
     },
     "metadata": {},
     "output_type": "display_data"
    }
   ],
   "source": [
    "id = 1\n",
    "function client_one_message(ws)\n",
    "\twriteguarded(ws, \"Hello from client $id\")\n",
    "\n",
    "\tmsg, stillopen = readguarded(ws)\n",
    "\n",
    "\tprintln(\"Received:\", String(msg))\n",
    "\n",
    "\twriteguarded(ws, \"\")\n",
    "\n",
    "end\n",
    "function main()\n",
    "\tres = WebSockets.open(client_one_message, \"ws://192.168.0.129:1234\")\n",
    "end\n",
    "\n",
    "main()"
   ]
  }
 ],
 "metadata": {
  "kernelspec": {
   "display_name": "Julia 1.8.5",
   "language": "julia",
   "name": "julia-1.8"
  },
  "language_info": {
   "file_extension": ".jl",
   "mimetype": "application/julia",
   "name": "julia",
   "version": "1.8.5"
  },
  "orig_nbformat": 4
 },
 "nbformat": 4,
 "nbformat_minor": 2
}
