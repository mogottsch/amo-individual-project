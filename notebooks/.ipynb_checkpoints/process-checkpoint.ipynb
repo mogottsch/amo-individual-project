{
 "cells": [
  {
   "cell_type": "code",
   "execution_count": 30,
   "metadata": {},
   "outputs": [
    {
     "name": "stderr",
     "output_type": "stream",
     "text": [
      "\u001b[32m\u001b[1m  Activating\u001b[22m\u001b[39m project at `~/dev/uni/amo-individual-project`\n"
     ]
    }
   ],
   "source": [
    "using Pkg;\n",
    "Pkg.activate(\"..\");\n",
    "Pkg.instantiate();"
   ]
  },
  {
   "cell_type": "code",
   "execution_count": 31,
   "metadata": {},
   "outputs": [
    {
     "name": "stdout",
     "output_type": "stream",
     "text": [
      "1\n",
      "1\n",
      "1\n",
      "1\n",
      "1\n",
      "1\n",
      "1\n",
      "1\n",
      "1\n",
      "1\n"
     ]
    }
   ],
   "source": [
    "Threads.@threads for i in 1:10\n",
    "    println(Threads.threadid())\n",
    "end"
   ]
  },
  {
   "cell_type": "code",
   "execution_count": 2,
   "metadata": {},
   "outputs": [],
   "source": [
    "using DataFrames"
   ]
  },
  {
   "cell_type": "code",
   "execution_count": 3,
   "metadata": {},
   "outputs": [
    {
     "data": {
      "text/plain": [
       "Dict{Symbol, Dict{Symbol, Any}} with 3 entries:\n",
       "  :L2 => Dict(:from=>:B2, :to=>:B3, :capacity=>100)\n",
       "  :L1 => Dict(:from=>:B1, :to=>:B2, :capacity=>100)\n",
       "  :L3 => Dict(:from=>:B3, :to=>:B1, :capacity=>100)"
      ]
     },
     "metadata": {},
     "output_type": "display_data"
    }
   ],
   "source": [
    "busses = Dict(\n",
    "\t:B1 => Dict(\n",
    "\t\t:cost => 12,\n",
    "\t\t:P_min => 0,\n",
    "\t\t:P_max => 250,\n",
    "\t\t:load => 160,\n",
    "\t\t:incoming => [:L3],\n",
    "\t\t:outgoing => [:L1],\n",
    "\t),\n",
    "\t:B2 => Dict(\n",
    "\t\t:cost => 20,\n",
    "\t\t:P_min => 0,\n",
    "\t\t:P_max => 300,\n",
    "\t\t:load => 100,\n",
    "\t\t:incoming => [:L1],\n",
    "\t\t:outgoing => [:L2],\n",
    "\t),\n",
    "\t:B3 => Dict(\n",
    "\t\t:cost => 17,\n",
    "\t\t:P_min => 0,\n",
    "\t\t:P_max => 350,\n",
    "\t\t:load => 50,\n",
    "\t\t:incoming => [:L2],\n",
    "\t\t:outgoing => [:L3],\n",
    "\t),\n",
    ")\n",
    "\n",
    "lines = Dict(\n",
    "\t:L1 => Dict(\n",
    "\t\t:from => :B1,\n",
    "\t\t:to => :B2,\n",
    "\t\t:capacity => 100,\n",
    "\t),\n",
    "\t:L2 => Dict(\n",
    "\t\t:from => :B2,\n",
    "\t\t:to => :B3,\n",
    "\t\t:capacity => 100,\n",
    "\t),\n",
    "\t:L3 => Dict(\n",
    "\t\t:from => :B3,\n",
    "\t\t:to => :B1,\n",
    "\t\t:capacity => 100,\n",
    "\t),\n",
    ")"
   ]
  },
  {
   "cell_type": "code",
   "execution_count": 4,
   "metadata": {},
   "outputs": [
    {
     "ename": "UndefVarError",
     "evalue": "UndefVarError: Bus not defined",
     "output_type": "error",
     "traceback": [
      "UndefVarError: Bus not defined\n",
      "\n",
      "Stacktrace:\n",
      " [1] top-level scope\n",
      "   @ ~/dev/uni/amo-individual-project/notebooks/process.ipynb:1"
     ]
    }
   ],
   "source": [
    "parsed_busses = Dict{Symbol,Bus}()\n",
    "for (id, bus) in busses\n",
    "\tparsed_busses[id] = Bus(id, bus[:cost], bus[:P_min], bus[:P_max], bus[:load], Set(bus[:incoming]), Set(bus[:outgoing]))\n",
    "end\n",
    "\n",
    "parsed_lines = Dict{Symbol,Line}()\n",
    "for (id, line) in lines\n",
    "\tparsed_lines[id] = Line(id, line[:from], line[:to], line[:capacity])\n",
    "end"
   ]
  },
  {
   "cell_type": "code",
   "execution_count": 5,
   "metadata": {},
   "outputs": [
    {
     "name": "stdout",
     "output_type": "stream",
     "text": [
      "Set parameter Username\n",
      "Academic license - for non-commercial use only - expires 2024-01-19\n",
      "\n"
     ]
    }
   ],
   "source": [
    "include.(filter(contains(r\".jl$\"), readdir(\"../src\"; join=true)))\n",
    "println()"
   ]
  },
  {
   "cell_type": "code",
   "execution_count": 6,
   "metadata": {},
   "outputs": [
    {
     "name": "stdout",
     "output_type": "stream",
     "text": [
      "\n"
     ]
    }
   ],
   "source": [
    "# busses, lines = read_rwth_data_format(\"../data/Scenario_2013.xlsx\")\n",
    "# println()\n",
    "busses, lines = read_IEEE_common_data_format(\"../data/ieee118cdf.txt\")\n",
    "println()"
   ]
  },
  {
   "cell_type": "code",
   "execution_count": 24,
   "metadata": {},
   "outputs": [
    {
     "name": "stdout",
     "output_type": "stream",
     "text": [
      "\n"
     ]
    }
   ],
   "source": [
    "include.(filter(contains(r\".jl$\"), readdir(\"../src\"; join=true)))\n",
    "busses, lines = read_IEEE_common_data_format(\"../data/ieee57cdf.txt\")\n",
    "println()"
   ]
  },
  {
   "cell_type": "code",
   "execution_count": 25,
   "metadata": {},
   "outputs": [
    {
     "data": {
      "text/plain": [
       "142.5500000000004"
      ]
     },
     "metadata": {},
     "output_type": "display_data"
    }
   ],
   "source": [
    "df = create_bus_df(busses)\n",
    "sum(df.P_max)-sum(df.load)\n",
    "# df = create_lines_df(lines)"
   ]
  },
  {
   "cell_type": "code",
   "execution_count": 19,
   "metadata": {},
   "outputs": [
    {
     "name": "stdout",
     "output_type": "stream",
     "text": [
      "43778.0\n"
     ]
    }
   ],
   "source": [
    "Ps_lp, δs_lp, objective_lp = solve_with_lp(busses, lines)\n",
    "println(objective_lp)"
   ]
  },
  {
   "cell_type": "code",
   "execution_count": 29,
   "metadata": {},
   "outputs": [
    {
     "name": "stderr",
     "output_type": "stream",
     "text": [
      "┌ Info: Installing Julia 32 Threads kernelspec in /home/moritz/.local/share/jupyter/kernels/julia-32-threads-1.8\n",
      "└ @ IJulia /home/moritz/.julia/packages/IJulia/6TIq1/deps/kspec.jl:105\n"
     ]
    },
    {
     "data": {
      "text/plain": [
       "\"/home/moritz/.local/share/jupyter/kernels/julia-32-threads-1.8\""
      ]
     },
     "metadata": {},
     "output_type": "display_data"
    }
   ],
   "source": [
    "using IJulia\n",
    "IJulia.installkernel(\"Julia 32 Threads\", env=Dict(\n",
    "    \"JULIA_NUM_THREADS\" => \"32\",\n",
    "))"
   ]
  },
  {
   "cell_type": "code",
   "execution_count": 26,
   "metadata": {},
   "outputs": [
    {
     "ename": "ErrorException",
     "evalue": "Expected more than one thread",
     "output_type": "error",
     "traceback": [
      "Expected more than one thread\n",
      "\n",
      "Stacktrace:\n",
      " [1] solve_subproblems_multithreaded(busses::Dict{Symbol, Bus}, lines::Dict{Symbol, Line}, δs::Dict{Symbol, Float64}, λ_δs::Dict{Symbol, Dict{Symbol, Float64}}, ρ::Float64)\n",
      "   @ Main ~/dev/uni/amo-individual-project/src/admm.jl:174\n",
      " [2] solve_with_admm(busses::Dict{Symbol, Bus}, lines::Dict{Symbol, Line}, ρ::Float64)\n",
      "   @ Main ~/dev/uni/amo-individual-project/src/admm.jl:16\n",
      " [3] top-level scope\n",
      "   @ ~/dev/uni/amo-individual-project/notebooks/process.ipynb:1"
     ]
    }
   ],
   "source": [
    "Ps_admm, δs_admm, objective_admm = solve_with_admm(busses, lines, 1.0)\n",
    "println(objective_admm)"
   ]
  },
  {
   "cell_type": "code",
   "execution_count": null,
   "metadata": {},
   "outputs": [],
   "source": [
    "1000 0.03917193805467664 9.166233504794388\n",
    "Did not converge\n",
    "43778.2264430425"
   ]
  },
  {
   "cell_type": "code",
   "execution_count": 22,
   "metadata": {},
   "outputs": [
    {
     "name": "stdout",
     "output_type": "stream",
     "text": [
      "Difference: -0.22644304249843117\n",
      "Percentage: -0.0005172530551839535 %\n"
     ]
    }
   ],
   "source": [
    "difference = objective_lp - objective_admm\n",
    "println(\"Difference: $(difference)\")\n",
    "percentage = difference / objective_lp * 100\n",
    "println(\"Percentage: $(percentage) %\")"
   ]
  }
 ],
 "metadata": {
  "kernelspec": {
   "display_name": "Julia 32 Threads 1.8.5",
   "language": "julia",
   "name": "julia-32-threads-1.8"
  },
  "language_info": {
   "file_extension": ".jl",
   "mimetype": "application/julia",
   "name": "julia",
   "version": "1.8.5"
  },
  "vscode": {
   "interpreter": {
    "hash": "92fc518b5b7384118677689b6c62f007241a114fd66f06ac06e1a7d68fdfd572"
   }
  }
 },
 "nbformat": 4,
 "nbformat_minor": 2
}
